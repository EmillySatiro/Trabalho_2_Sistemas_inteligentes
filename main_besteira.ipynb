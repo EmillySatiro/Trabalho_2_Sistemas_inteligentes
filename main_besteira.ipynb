{
 "cells": [
  {
   "cell_type": "code",
   "execution_count": 47,
   "id": "036932e0",
   "metadata": {},
   "outputs": [
    {
     "name": "stdout",
     "output_type": "stream",
     "text": [
      "Note: you may need to restart the kernel to use updated packages.\n"
     ]
    },
    {
     "name": "stderr",
     "output_type": "stream",
     "text": [
      "\n",
      "[notice] A new release of pip is available: 25.1.1 -> 25.2\n",
      "[notice] To update, run: python.exe -m pip install --upgrade pip\n"
     ]
    }
   ],
   "source": [
    "%pip install -r requirements.txt -q"
   ]
  },
  {
   "cell_type": "code",
   "execution_count": 3,
   "id": "b5ef259a",
   "metadata": {},
   "outputs": [
    {
     "name": "stderr",
     "output_type": "stream",
     "text": [
      "A subdirectory or file dataset already exists.\n",
      "  % Total    % Received % Xferd  Average Speed   Time    Time     Time  Current\n",
      "                                 Dload  Upload   Total   Spent    Left  Speed\n",
      "\n",
      "  0     0    0     0    0     0      0      0 --:--:-- --:--:-- --:--:--     0\n",
      "100 20405    0 20405    0     0  20986      0 --:--:-- --:--:-- --:--:-- 21057\n",
      "100  163k    0  163k    0     0  86308      0 --:--:--  0:00:01 --:--:-- 86437\n",
      "100  715k    0  715k    0     0   238k      0 --:--:--  0:00:03 --:--:--  238k\n",
      "100  887k    0  887k    0     0   246k      0 --:--:--  0:00:03 --:--:--  246k\n"
     ]
    }
   ],
   "source": [
    "!mkdir dataset\n",
    "!curl -L -o dataset/micro_gas_turbine_electrical_energy_prediction.zip https://archive.ics.uci.edu/static/public/994/micro+gas+turbine+electrical+energy+prediction.zip"
   ]
  },
  {
   "cell_type": "code",
   "execution_count": 4,
   "id": "596f2092",
   "metadata": {},
   "outputs": [],
   "source": [
    "import pandas as pd\n",
    "import math\n",
    "import glob\n",
    "import matplotlib.pyplot as plt\n",
    "import zipfile"
   ]
  },
  {
   "cell_type": "code",
   "execution_count": 5,
   "id": "2f9bf1de",
   "metadata": {},
   "outputs": [],
   "source": [
    "zipfile.ZipFile('dataset/micro_gas_turbine_electrical_energy_prediction.zip').extractall('dataset/')\n",
    "zipfile.ZipFile('dataset/test.zip').extractall('dataset/')\n",
    "zipfile.ZipFile('dataset/train.zip').extractall('dataset/')"
   ]
  },
  {
   "cell_type": "code",
   "execution_count": 6,
   "id": "dbb45295",
   "metadata": {},
   "outputs": [],
   "source": [
    "path_test = glob.glob('dataset/test/*.csv')\n",
    "path_train = glob.glob('dataset/train/*.csv')"
   ]
  },
  {
   "cell_type": "code",
   "execution_count": 7,
   "id": "1c3718e7",
   "metadata": {},
   "outputs": [
    {
     "data": {
      "text/plain": [
       "(52940, 18285)"
      ]
     },
     "execution_count": 7,
     "metadata": {},
     "output_type": "execute_result"
    }
   ],
   "source": [
    "# Juntar todos os arquivos de treino em um único DataFrame\n",
    "df_train = pd.concat([pd.read_csv(f) for f in path_train], ignore_index=True)\n",
    "df_test = pd.concat([pd.read_csv(f) for f in path_test], ignore_index=True) \n",
    "len(df_train), len(df_test)"
   ]
  },
  {
   "cell_type": "code",
   "execution_count": 8,
   "id": "9b90f7d2",
   "metadata": {},
   "outputs": [
    {
     "data": {
      "application/vnd.microsoft.datawrangler.viewer.v0+json": {
       "columns": [
        {
         "name": "index",
         "rawType": "int64",
         "type": "integer"
        },
        {
         "name": "time",
         "rawType": "float64",
         "type": "float"
        },
        {
         "name": "input_voltage",
         "rawType": "float64",
         "type": "float"
        },
        {
         "name": "el_power",
         "rawType": "float64",
         "type": "float"
        }
       ],
       "ref": "e5ed2876-3ed1-4059-8204-046e592dcb06",
       "rows": [
        [
         "0",
         "810.07028",
         "10.0",
         "1228.79172023015"
        ],
        [
         "1",
         "811.06938",
         "10.0",
         "1223.04174518756"
        ],
        [
         "2",
         "812.06848",
         "10.0",
         "1244.96086584765"
        ],
        [
         "3",
         "813.06758",
         "10.0",
         "1229.259057673"
        ],
        [
         "4",
         "814.06668",
         "10.0",
         "1248.11702383749"
        ]
       ],
       "shape": {
        "columns": 3,
        "rows": 5
       }
      },
      "text/html": [
       "<div>\n",
       "<style scoped>\n",
       "    .dataframe tbody tr th:only-of-type {\n",
       "        vertical-align: middle;\n",
       "    }\n",
       "\n",
       "    .dataframe tbody tr th {\n",
       "        vertical-align: top;\n",
       "    }\n",
       "\n",
       "    .dataframe thead th {\n",
       "        text-align: right;\n",
       "    }\n",
       "</style>\n",
       "<table border=\"1\" class=\"dataframe\">\n",
       "  <thead>\n",
       "    <tr style=\"text-align: right;\">\n",
       "      <th></th>\n",
       "      <th>time</th>\n",
       "      <th>input_voltage</th>\n",
       "      <th>el_power</th>\n",
       "    </tr>\n",
       "  </thead>\n",
       "  <tbody>\n",
       "    <tr>\n",
       "      <th>0</th>\n",
       "      <td>810.07028</td>\n",
       "      <td>10.0</td>\n",
       "      <td>1228.791720</td>\n",
       "    </tr>\n",
       "    <tr>\n",
       "      <th>1</th>\n",
       "      <td>811.06938</td>\n",
       "      <td>10.0</td>\n",
       "      <td>1223.041745</td>\n",
       "    </tr>\n",
       "    <tr>\n",
       "      <th>2</th>\n",
       "      <td>812.06848</td>\n",
       "      <td>10.0</td>\n",
       "      <td>1244.960866</td>\n",
       "    </tr>\n",
       "    <tr>\n",
       "      <th>3</th>\n",
       "      <td>813.06758</td>\n",
       "      <td>10.0</td>\n",
       "      <td>1229.259058</td>\n",
       "    </tr>\n",
       "    <tr>\n",
       "      <th>4</th>\n",
       "      <td>814.06668</td>\n",
       "      <td>10.0</td>\n",
       "      <td>1248.117024</td>\n",
       "    </tr>\n",
       "  </tbody>\n",
       "</table>\n",
       "</div>"
      ],
      "text/plain": [
       "        time  input_voltage     el_power\n",
       "0  810.07028           10.0  1228.791720\n",
       "1  811.06938           10.0  1223.041745\n",
       "2  812.06848           10.0  1244.960866\n",
       "3  813.06758           10.0  1229.259058\n",
       "4  814.06668           10.0  1248.117024"
      ]
     },
     "execution_count": 8,
     "metadata": {},
     "output_type": "execute_result"
    }
   ],
   "source": [
    "df_train.head()"
   ]
  },
  {
   "cell_type": "code",
   "execution_count": 9,
   "id": "476218ef",
   "metadata": {},
   "outputs": [
    {
     "data": {
      "text/plain": [
       "(np.float64(810.0), np.float64(12636.84), np.float64(3.2852333333333332))"
      ]
     },
     "execution_count": 9,
     "metadata": {},
     "output_type": "execute_result"
    }
   ],
   "source": [
    "# Verificar o tempo de cada medição\n",
    "df_train['time'].min(), df_train['time'].max(), (df_train['time'].max() - df_train['time'].min()) / 3600"
   ]
  },
  {
   "cell_type": "code",
   "execution_count": 10,
   "id": "22c7174d",
   "metadata": {},
   "outputs": [
    {
     "data": {
      "text/plain": [
       "(np.float64(758.425813187233),\n",
       " np.float64(10545.5323989833),\n",
       " np.float64(2.7186407182766854))"
      ]
     },
     "execution_count": 10,
     "metadata": {},
     "output_type": "execute_result"
    }
   ],
   "source": [
    "df_test['time'].min(), df_test['time'].max(), (df_test['time'].max() - df_test['time'].min()) / 3600"
   ]
  },
  {
   "cell_type": "code",
   "execution_count": 11,
   "id": "01bb85cd",
   "metadata": {},
   "outputs": [
    {
     "data": {
      "application/vnd.microsoft.datawrangler.viewer.v0+json": {
       "columns": [
        {
         "name": "index",
         "rawType": "int64",
         "type": "integer"
        },
        {
         "name": "time",
         "rawType": "float64",
         "type": "float"
        },
        {
         "name": "input_voltage",
         "rawType": "float64",
         "type": "float"
        },
        {
         "name": "el_power",
         "rawType": "float64",
         "type": "float"
        }
       ],
       "ref": "ba6c6065-35e6-4b5d-bdfd-516e0e3604b8",
       "rows": [
        [
         "0",
         "880.3",
         "3.0",
         "1193.14071267369"
        ],
        [
         "1",
         "881.3",
         "3.0",
         "1107.0664206039"
        ],
        [
         "2",
         "882.3",
         "3.0",
         "1180.40676728031"
        ],
        [
         "3",
         "883.3",
         "3.0",
         "1095.55149813213"
        ],
        [
         "4",
         "884.3",
         "3.0",
         "1177.07371862145"
        ]
       ],
       "shape": {
        "columns": 3,
        "rows": 5
       }
      },
      "text/html": [
       "<div>\n",
       "<style scoped>\n",
       "    .dataframe tbody tr th:only-of-type {\n",
       "        vertical-align: middle;\n",
       "    }\n",
       "\n",
       "    .dataframe tbody tr th {\n",
       "        vertical-align: top;\n",
       "    }\n",
       "\n",
       "    .dataframe thead th {\n",
       "        text-align: right;\n",
       "    }\n",
       "</style>\n",
       "<table border=\"1\" class=\"dataframe\">\n",
       "  <thead>\n",
       "    <tr style=\"text-align: right;\">\n",
       "      <th></th>\n",
       "      <th>time</th>\n",
       "      <th>input_voltage</th>\n",
       "      <th>el_power</th>\n",
       "    </tr>\n",
       "  </thead>\n",
       "  <tbody>\n",
       "    <tr>\n",
       "      <th>0</th>\n",
       "      <td>880.3</td>\n",
       "      <td>3.0</td>\n",
       "      <td>1193.140713</td>\n",
       "    </tr>\n",
       "    <tr>\n",
       "      <th>1</th>\n",
       "      <td>881.3</td>\n",
       "      <td>3.0</td>\n",
       "      <td>1107.066421</td>\n",
       "    </tr>\n",
       "    <tr>\n",
       "      <th>2</th>\n",
       "      <td>882.3</td>\n",
       "      <td>3.0</td>\n",
       "      <td>1180.406767</td>\n",
       "    </tr>\n",
       "    <tr>\n",
       "      <th>3</th>\n",
       "      <td>883.3</td>\n",
       "      <td>3.0</td>\n",
       "      <td>1095.551498</td>\n",
       "    </tr>\n",
       "    <tr>\n",
       "      <th>4</th>\n",
       "      <td>884.3</td>\n",
       "      <td>3.0</td>\n",
       "      <td>1177.073719</td>\n",
       "    </tr>\n",
       "  </tbody>\n",
       "</table>\n",
       "</div>"
      ],
      "text/plain": [
       "    time  input_voltage     el_power\n",
       "0  880.3            3.0  1193.140713\n",
       "1  881.3            3.0  1107.066421\n",
       "2  882.3            3.0  1180.406767\n",
       "3  883.3            3.0  1095.551498\n",
       "4  884.3            3.0  1177.073719"
      ]
     },
     "execution_count": 11,
     "metadata": {},
     "output_type": "execute_result"
    }
   ],
   "source": [
    "df_test.head()"
   ]
  },
  {
   "cell_type": "code",
   "execution_count": 12,
   "id": "ea29a0c2",
   "metadata": {},
   "outputs": [],
   "source": [
    "colunas = df_train.columns"
   ]
  },
  {
   "cell_type": "code",
   "execution_count": 13,
   "id": "663bc6dc",
   "metadata": {},
   "outputs": [
    {
     "data": {
      "text/plain": [
       "'el_power'"
      ]
     },
     "execution_count": 13,
     "metadata": {},
     "output_type": "execute_result"
    }
   ],
   "source": [
    "column_used = colunas[-1]  # Target column\n",
    "column_used"
   ]
  },
  {
   "cell_type": "markdown",
   "id": "cb14b027",
   "metadata": {},
   "source": [
    "# Funções utilizadas e base para a análise temporária"
   ]
  },
  {
   "cell_type": "code",
   "execution_count": 14,
   "id": "7bcd27c4",
   "metadata": {},
   "outputs": [],
   "source": [
    "x_train = df_train[colunas[0]]\n",
    "y_train = df_train[column_used]\n",
    "\n",
    "x_test = df_test[colunas[0]]\n",
    "y_test = df_test[column_used]"
   ]
  },
  {
   "cell_type": "code",
   "execution_count": 15,
   "id": "9b33db93",
   "metadata": {},
   "outputs": [
    {
     "data": {
      "text/plain": [
       "(np.float64(0.056726897947851566), np.float64(1525.2797606834586))"
      ]
     },
     "execution_count": 15,
     "metadata": {},
     "output_type": "execute_result"
    }
   ],
   "source": [
    "def calculo_b1_b0(column_x,column_y):\n",
    "    x_mean = column_x.sum() / len(column_x)\n",
    "    y_mean = column_y.sum() / len(column_y)\n",
    "    \n",
    "    numerador = 0\n",
    "    denominador = 0\n",
    "    \n",
    "    for i in range(len(column_x)):\n",
    "        numerador += (column_x[i] - x_mean) * (column_y[i] - y_mean)\n",
    "        denominador += (column_x[i] - x_mean) ** 2\n",
    "    \n",
    "    b1 = numerador / denominador\n",
    "    \n",
    "    b0 = y_mean - (x_mean*b1)\n",
    "    \n",
    "    return b1,b0\n",
    "\n",
    "b1,b0 = calculo_b1_b0(x_train,y_train)\n",
    "b1,b0"
   ]
  },
  {
   "cell_type": "code",
   "execution_count": 16,
   "id": "7b64673e",
   "metadata": {},
   "outputs": [],
   "source": [
    "def calculo_pred(b1,b0,x):\n",
    "    return (b1 * x) + b0"
   ]
  },
  {
   "cell_type": "code",
   "execution_count": 17,
   "id": "d1f91fa4",
   "metadata": {},
   "outputs": [],
   "source": [
    "def pred_test(column_x_test):\n",
    "    column_y_pred = []\n",
    "    \n",
    "    for x in column_x_test:\n",
    "        column_y_pred.append(calculo_pred(b1,b0,x))\n",
    "    \n",
    "    return column_y_pred\n",
    "column_y_pred = pred_test(x_test)"
   ]
  },
  {
   "cell_type": "code",
   "execution_count": 18,
   "id": "41bfb402",
   "metadata": {},
   "outputs": [
    {
     "data": {
      "text/plain": [
       "765.7460874262545"
      ]
     },
     "execution_count": 18,
     "metadata": {},
     "output_type": "execute_result"
    }
   ],
   "source": [
    "def rmse(column_y_real,column_y_pred):\n",
    "    n = len(column_y_real)\n",
    "    numerador = 0.0\n",
    "    \n",
    "    for i in range(n):\n",
    "        numerador += (column_y_real[i] - column_y_pred[i]) ** 2\n",
    "    \n",
    "    result = numerador / n\n",
    "    \n",
    "    return math.sqrt(result)\n",
    "\n",
    "rmse(y_test,column_y_pred)"
   ]
  },
  {
   "cell_type": "code",
   "execution_count": 19,
   "id": "25855367",
   "metadata": {},
   "outputs": [
    {
     "data": {
      "text/plain": [
       "np.float64(586367.0704086169)"
      ]
     },
     "execution_count": 19,
     "metadata": {},
     "output_type": "execute_result"
    }
   ],
   "source": [
    "def mse(column_y_real,column_y_pred):\n",
    "    n = len(column_y_real)\n",
    "    numerador = 0.0\n",
    "    \n",
    "    for i in range(n):\n",
    "        numerador += (column_y_real[i] - column_y_pred[i]) ** 2\n",
    "    \n",
    "    result = numerador / n\n",
    "    \n",
    "    return result\n",
    "\n",
    "mse(y_test,column_y_pred)"
   ]
  },
  {
   "cell_type": "markdown",
   "id": "7f05a5ad",
   "metadata": {},
   "source": [
    "# Validação real"
   ]
  },
  {
   "cell_type": "code",
   "execution_count": 20,
   "id": "34c5cfca",
   "metadata": {},
   "outputs": [
    {
     "name": "stdout",
     "output_type": "stream",
     "text": [
      "Melhor coluna: input_voltage com RMSE: 382.6748888289727\n"
     ]
    }
   ],
   "source": [
    "best_column = ''\n",
    "best_rmse = float('inf')\n",
    "results = []\n",
    "\n",
    "for column in colunas:\n",
    "    if column == column_used:\n",
    "        continue\n",
    "\n",
    "    if df_train[column].dtype in ['float64', 'int64']:\n",
    "        \n",
    "        x_train = df_train[column]\n",
    "        x_test = df_test[column]\n",
    "\n",
    "        y_train = df_train[column_used]\n",
    "        y_test = df_test[column_used]\n",
    "        \n",
    "        b1,b0 = calculo_b1_b0(x_train,y_train)\n",
    "        column_y_pred = pred_test(x_test)\n",
    "        \n",
    "        rmse_value = rmse(y_test,column_y_pred)\n",
    "        mse_value = mse(y_test,column_y_pred)\n",
    "        \n",
    "        if rmse_value < best_rmse:\n",
    "            best_rmse = rmse_value\n",
    "            best_column = column\n",
    "        \n",
    "        results.append((column, b1, b0, rmse_value, mse_value))\n",
    "    else:\n",
    "        print(f\"Pulando coluna categórica: {column}\")\n",
    "\n",
    "print(f\"Melhor coluna: {best_column} com RMSE: {best_rmse}\")"
   ]
  },
  {
   "cell_type": "code",
   "execution_count": 21,
   "id": "0cb7c211",
   "metadata": {},
   "outputs": [
    {
     "data": {
      "application/vnd.microsoft.datawrangler.viewer.v0+json": {
       "columns": [
        {
         "name": "index",
         "rawType": "int64",
         "type": "integer"
        },
        {
         "name": "Column",
         "rawType": "object",
         "type": "string"
        },
        {
         "name": "b1",
         "rawType": "float64",
         "type": "float"
        },
        {
         "name": "b0",
         "rawType": "float64",
         "type": "float"
        },
        {
         "name": "RMSE",
         "rawType": "float64",
         "type": "float"
        },
        {
         "name": "MSE",
         "rawType": "float64",
         "type": "float"
        }
       ],
       "ref": "273efe2e-0ee0-4d80-a98f-d722d553397d",
       "rows": [
        [
         "0",
         "input_voltage",
         "250.18441344571048",
         "465.91725400839255",
         "382.6748888289727",
         "146440.0705402666"
        ],
        [
         "1",
         "time",
         "0.056726897947851566",
         "1525.2797606834586",
         "765.7460874262545",
         "586367.0704086169"
        ]
       ],
       "shape": {
        "columns": 5,
        "rows": 2
       }
      },
      "text/html": [
       "<div>\n",
       "<style scoped>\n",
       "    .dataframe tbody tr th:only-of-type {\n",
       "        vertical-align: middle;\n",
       "    }\n",
       "\n",
       "    .dataframe tbody tr th {\n",
       "        vertical-align: top;\n",
       "    }\n",
       "\n",
       "    .dataframe thead th {\n",
       "        text-align: right;\n",
       "    }\n",
       "</style>\n",
       "<table border=\"1\" class=\"dataframe\">\n",
       "  <thead>\n",
       "    <tr style=\"text-align: right;\">\n",
       "      <th></th>\n",
       "      <th>Column</th>\n",
       "      <th>b1</th>\n",
       "      <th>b0</th>\n",
       "      <th>RMSE</th>\n",
       "      <th>MSE</th>\n",
       "    </tr>\n",
       "  </thead>\n",
       "  <tbody>\n",
       "    <tr>\n",
       "      <th>0</th>\n",
       "      <td>input_voltage</td>\n",
       "      <td>250.184413</td>\n",
       "      <td>465.917254</td>\n",
       "      <td>382.674889</td>\n",
       "      <td>146440.070540</td>\n",
       "    </tr>\n",
       "    <tr>\n",
       "      <th>1</th>\n",
       "      <td>time</td>\n",
       "      <td>0.056727</td>\n",
       "      <td>1525.279761</td>\n",
       "      <td>765.746087</td>\n",
       "      <td>586367.070409</td>\n",
       "    </tr>\n",
       "  </tbody>\n",
       "</table>\n",
       "</div>"
      ],
      "text/plain": [
       "          Column          b1           b0        RMSE            MSE\n",
       "0  input_voltage  250.184413   465.917254  382.674889  146440.070540\n",
       "1           time    0.056727  1525.279761  765.746087  586367.070409"
      ]
     },
     "execution_count": 21,
     "metadata": {},
     "output_type": "execute_result"
    }
   ],
   "source": [
    "df = pd.DataFrame(results, columns=['Column', 'b1', 'b0', 'RMSE', 'MSE']).sort_values(by='RMSE').reset_index(drop=True)\n",
    "df"
   ]
  },
  {
   "cell_type": "code",
   "execution_count": 22,
   "id": "7e9c1f29",
   "metadata": {},
   "outputs": [
    {
     "data": {
      "text/plain": [
       "<matplotlib.legend.Legend at 0x175b5f7d2b0>"
      ]
     },
     "execution_count": 22,
     "metadata": {},
     "output_type": "execute_result"
    },
    {
     "data": {
      "image/png": "[encoded data removed]",
      "text/plain": [
       "<Figure size 1000x600 with 1 Axes>"
      ]
     },
     "metadata": {},
     "output_type": "display_data"
    }
   ],
   "source": [
    "plt.figure(figsize=(10,6))\n",
    "plt.scatter(x_test, y_test, color='blue', label='Actual Data')\n",
    "plt.plot(x_test, column_y_pred, color='red', label='Regression Line')\n",
    "plt.xlabel(best_column)\n",
    "plt.ylabel(column_used)\n",
    "plt.title(f'Linear Regression usando a coluna {best_column} para prever {column_used}')\n",
    "plt.legend()"
   ]
  },
  {
   "cell_type": "markdown",
   "id": "03f4a5f8",
   "metadata": {},
   "source": [
    "# Regressão multiplas"
   ]
  },
  {
   "cell_type": "markdown",
   "id": "2428274f",
   "metadata": {},
   "source": [
    "## Formulas\n",
    "\n",
    "### Regressão Linear multipla\n",
    "\n",
    "Função geral da regressão linear múltipla:\n",
    "Y = β0 + β1X1 + β2X2 + ... + βnXn + ε\n",
    "\n",
    "#### Descrição dos termos:\n",
    "- Y: Variável dependente (o que estamos tentando prever)\n",
    "- X1, X2, ..., Xn: Variáveis independentes (os preditores)\n",
    "- β0: Essa variavel é o intercepto, ou seja, o valor de Y quando todas as variáveis independentes são iguais a zero.\n",
    "- β1, β2, ..., βn: Coeficientes de regressão que representam a mudança esperada em Y para uma unidade de mudança em cada variável independente, mantendo todas as outras constantes.\n",
    "\n",
    "Função de custo:\n",
    "J(β) = (1/2m) * Σ (Yi - (β0 + β1X1i + β2X2i + ... + βnXni))^2\n",
    "\n",
    "Gradiente descendente:\n",
    "βj := βj - α * (∂J(β)/∂βj)\n",
    "\n"
   ]
  },
  {
   "cell_type": "code",
   "execution_count": null,
   "id": "fc50a7c4",
   "metadata": {},
   "outputs": [],
   "source": [
    "# novo_coeficientes, custo_historico = gradiente_descendente(\n",
    "#     x, y, coeficientes_inicial, \n",
    "#     alpha=0.001, \n",
    "#     epochs=100\n",
    "# )"
   ]
  },
  {
   "cell_type": "code",
   "execution_count": null,
   "id": "6b150fbe",
   "metadata": {},
   "outputs": [],
   "source": [
    "def funcao_custo(X, y, coeficientes):\n",
    "    m = len(y)\n",
    "    total_erro = 0.0\n",
    "    \n",
    "    for i in range(m):\n",
    "        y_pred = 0.0\n",
    "        for j in range(len(coeficientes)):\n",
    "            y_pred += X[i][j] * coeficientes[j]\n",
    "        \n",
    "        erro = y[i] - y_pred\n",
    "        total_erro += erro ** 2\n",
    "    \n",
    "    custo = total_erro / (2 * m)\n",
    "    return custo\n",
    "\n",
    "def calcular_gradientes(X, y, coeficientes):\n",
    "    \"\"\"\n",
    "    Implementação da fórmula: \n",
    "    ∂J/∂βj = (1/m) * Σ(hβ(x^(i)) - y^(i)) * xj^(i)\n",
    "    \"\"\"\n",
    "    m = len(y)\n",
    "    n = len(coeficientes)\n",
    "    gradientes = [0.0] * n\n",
    "    \n",
    "    for j in range(n):\n",
    "        soma_gradiente = 0.0\n",
    "        \n",
    "        for i in range(m):\n",
    "            h_beta = 0.0\n",
    "            for k in range(n):  \n",
    "                h_beta += X[i][k] * coeficientes[k]\n",
    "            erro = h_beta - y[i]\n",
    "            soma_gradiente += erro * X[i][j]\n",
    "        gradientes[j] = soma_gradiente / m\n",
    "    \n",
    "    return gradientes\n",
    "\n",
    "def gradiente_descendente(X, y, coeficientes_inicial, alpha, epochs):\n",
    "    \"\"\"\n",
    "    Implementação da fórmula:\n",
    "    βj := βj - α * (1/m) * Σ(hβ(x^(i)) - y^(i)) * xj^(i)\n",
    "    \"\"\"\n",
    "    coeficientes = coeficientes_inicial.copy()\n",
    "    custo_historico = []\n",
    "    \n",
    "    for epoch in range(epochs):\n",
    "        gradientes = calcular_gradientes(X, y, coeficientes)\n",
    "        for j in range(len(coeficientes)):\n",
    "            coeficientes[j] = coeficientes[j] - alpha * gradientes[j]\n",
    "        custo = funcao_custo(X, y, coeficientes)\n",
    "        custo_historico.append(custo)\n",
    "    \n",
    "        if epoch % 100 == 0 or epoch < 10:\n",
    "            print(f\"Epoch {epoch:4d}: Custo = {custo:.6f}, Gradientes = {[round(g, 6) for g in gradientes]}\")\n",
    "    \n",
    "    print(f\"Coeficientes finais: {coeficientes}\")\n",
    "    return coeficientes, custo_historico\n",
    "\n",
    "def fazer_predicoes(X, coeficientes):\n",
    "    \"\"\"\n",
    "    Calcular hβ(x) para fazer predições\n",
    "    \"\"\"\n",
    "    predicoes = []\n",
    "    for i in range(len(X)):\n",
    "        h_beta = 0.0\n",
    "        for j in range(len(coeficientes)):\n",
    "            h_beta += X[i][j] * coeficientes[j]\n",
    "        predicoes.append(h_beta)\n",
    "    return predicoes\n",
    "\n",
    "x_train = df_train[['input_voltage', 'time']]\n",
    "y_train = df_train['el_power']"
   ]
  }
 ],
 "metadata": {
  "kernelspec": {
   "display_name": ".venv (3.13.5)",
   "language": "python",
   "name": "python3"
  },
  "language_info": {
   "codemirror_mode": {
    "name": "ipython",
    "version": 3
   },
   "file_extension": ".py",
   "mimetype": "text/x-python",
   "name": "python",
   "nbconvert_exporter": "python",
   "pygments_lexer": "ipython3",
   "version": "3.13.5"
  }
 },
 "nbformat": 4,
 "nbformat_minor": 5
}
