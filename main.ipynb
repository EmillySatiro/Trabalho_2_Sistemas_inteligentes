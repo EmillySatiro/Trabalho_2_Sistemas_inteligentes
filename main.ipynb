{
 "cells": [
  {
   "cell_type": "code",
   "execution_count": 2,
   "id": "b5ef259a",
   "metadata": {},
   "outputs": [
    {
     "name": "stderr",
     "output_type": "stream",
     "text": [
      "A subdirectory or file dataset already exists.\n",
      "  % Total    % Received % Xferd  Average Speed   Time    Time     Time  Current\n",
      "                                 Dload  Upload   Total   Spent    Left  Speed\n",
      "\n",
      "  0     0    0     0    0     0      0      0 --:--:-- --:--:-- --:--:--     0\n",
      "  0     0    0     0    0     0      0      0 --:--:-- --:--:-- --:--:--     0\n",
      " 16 1183k   16  198k    0     0   124k      0  0:00:09  0:00:01  0:00:08  124k\n",
      "100 1183k  100 1183k    0     0   471k      0  0:00:02  0:00:02 --:--:--  471k\n",
      "100 1183k  100 1183k    0     0   471k      0  0:00:02  0:00:02 --:--:--  471k\n",
      "'ls' is not recognized as an internal or external command,\n",
      "operable program or batch file.\n",
      "  % Total    % Received % Xferd  Average Speed   Time    Time     Time  Current\n",
      "                                 Dload  Upload   Total   Spent    Left  Speed\n",
      "\n",
      "  0     0    0     0    0     0      0      0 --:--:-- --:--:-- --:--:--     0\n",
      "  0 1254k    0 12184    0     0  13035      0  0:01:38 --:--:--  0:01:38 13058\n",
      " 58 1254k   58  739k    0     0   323k      0  0:00:03  0:00:02  0:00:01  323k\n",
      "100 1254k  100 1254k    0     0   537k      0  0:00:02  0:00:02 --:--:--  537k\n",
      "'ls' is not recognized as an internal or external command,\n",
      "operable program or batch file.\n"
     ]
    }
   ],
   "source": [
    "!mkdir dataset\n",
    "!curl -L -o dataset/SOCS_Local-RFFRFS.csv \"https://zenodo.org/records/10211884/files/LUCAS%20SOIL%202018%20BD%20SOCS%20Local-RFFRFS.csv?download=1\" && ls -l dataset/SOCS_Local-RFFRFS.csv \n",
    "!curl -L -o dataset/SOCS_T-PTF4.csv \"https://zenodo.org/records/10211884/files/LUCAS%20SOIL%202018%20BD%20SOCS%20T-PTF4.csv?download=1\" && ls -l dataset/SOCS_T-PTF4.csv"
   ]
  },
  {
   "cell_type": "code",
   "execution_count": 3,
   "id": "596f2092",
   "metadata": {},
   "outputs": [
    {
     "name": "stderr",
     "output_type": "stream",
     "text": [
      "\n",
      "A module that was compiled using NumPy 1.x cannot be run in\n",
      "NumPy 2.3.3 as it may crash. To support both 1.x and 2.x\n",
      "versions of NumPy, modules must be compiled with NumPy 2.0.\n",
      "Some module may need to rebuild instead e.g. with 'pybind11>=2.12'.\n",
      "\n",
      "If you are a user of the module, the easiest solution will be to\n",
      "downgrade to 'numpy<2' or try to upgrade the affected module.\n",
      "We expect that some modules will need time to support NumPy 2.\n",
      "\n",
      "Traceback (most recent call last):  File \"<frozen runpy>\", line 198, in _run_module_as_main\n",
      "  File \"<frozen runpy>\", line 88, in _run_code\n",
      "  File \"c:\\Users\\jonas\\anaconda3\\Lib\\site-packages\\ipykernel_launcher.py\", line 17, in <module>\n",
      "    app.launch_new_instance()\n",
      "  File \"c:\\Users\\jonas\\anaconda3\\Lib\\site-packages\\traitlets\\config\\application.py\", line 1075, in launch_instance\n",
      "    app.start()\n",
      "  File \"c:\\Users\\jonas\\anaconda3\\Lib\\site-packages\\ipykernel\\kernelapp.py\", line 701, in start\n",
      "    self.io_loop.start()\n",
      "  File \"c:\\Users\\jonas\\anaconda3\\Lib\\site-packages\\tornado\\platform\\asyncio.py\", line 205, in start\n",
      "    self.asyncio_loop.run_forever()\n",
      "  File \"c:\\Users\\jonas\\anaconda3\\Lib\\asyncio\\windows_events.py\", line 322, in run_forever\n",
      "    super().run_forever()\n",
      "  File \"c:\\Users\\jonas\\anaconda3\\Lib\\asyncio\\base_events.py\", line 641, in run_forever\n",
      "    self._run_once()\n",
      "  File \"c:\\Users\\jonas\\anaconda3\\Lib\\asyncio\\base_events.py\", line 1986, in _run_once\n",
      "    handle._run()\n",
      "  File \"c:\\Users\\jonas\\anaconda3\\Lib\\asyncio\\events.py\", line 88, in _run\n",
      "    self._context.run(self._callback, *self._args)\n",
      "  File \"c:\\Users\\jonas\\anaconda3\\Lib\\site-packages\\ipykernel\\kernelbase.py\", line 534, in dispatch_queue\n",
      "    await self.process_one()\n",
      "  File \"c:\\Users\\jonas\\anaconda3\\Lib\\site-packages\\ipykernel\\kernelbase.py\", line 523, in process_one\n",
      "    await dispatch(*args)\n",
      "  File \"c:\\Users\\jonas\\anaconda3\\Lib\\site-packages\\ipykernel\\kernelbase.py\", line 429, in dispatch_shell\n",
      "    await result\n",
      "  File \"c:\\Users\\jonas\\anaconda3\\Lib\\site-packages\\ipykernel\\kernelbase.py\", line 767, in execute_request\n",
      "    reply_content = await reply_content\n",
      "  File \"c:\\Users\\jonas\\anaconda3\\Lib\\site-packages\\ipykernel\\ipkernel.py\", line 429, in do_execute\n",
      "    res = shell.run_cell(\n",
      "  File \"c:\\Users\\jonas\\anaconda3\\Lib\\site-packages\\ipykernel\\zmqshell.py\", line 549, in run_cell\n",
      "    return super().run_cell(*args, **kwargs)\n",
      "  File \"c:\\Users\\jonas\\anaconda3\\Lib\\site-packages\\IPython\\core\\interactiveshell.py\", line 3075, in run_cell\n",
      "    result = self._run_cell(\n",
      "  File \"c:\\Users\\jonas\\anaconda3\\Lib\\site-packages\\IPython\\core\\interactiveshell.py\", line 3130, in _run_cell\n",
      "    result = runner(coro)\n",
      "  File \"c:\\Users\\jonas\\anaconda3\\Lib\\site-packages\\IPython\\core\\async_helpers.py\", line 128, in _pseudo_sync_runner\n",
      "    coro.send(None)\n",
      "  File \"c:\\Users\\jonas\\anaconda3\\Lib\\site-packages\\IPython\\core\\interactiveshell.py\", line 3334, in run_cell_async\n",
      "    has_raised = await self.run_ast_nodes(code_ast.body, cell_name,\n",
      "  File \"c:\\Users\\jonas\\anaconda3\\Lib\\site-packages\\IPython\\core\\interactiveshell.py\", line 3517, in run_ast_nodes\n",
      "    if await self.run_code(code, result, async_=asy):\n",
      "  File \"c:\\Users\\jonas\\anaconda3\\Lib\\site-packages\\IPython\\core\\interactiveshell.py\", line 3577, in run_code\n",
      "    exec(code_obj, self.user_global_ns, self.user_ns)\n",
      "  File \"C:\\Users\\jonas\\AppData\\Local\\Temp\\ipykernel_8536\\3795637154.py\", line 1, in <module>\n",
      "    import pandas as pd\n",
      "  File \"c:\\Users\\jonas\\anaconda3\\Lib\\site-packages\\pandas\\__init__.py\", line 62, in <module>\n",
      "    from pandas.core.api import (\n",
      "  File \"c:\\Users\\jonas\\anaconda3\\Lib\\site-packages\\pandas\\core\\api.py\", line 28, in <module>\n",
      "    from pandas.core.arrays import Categorical\n",
      "  File \"c:\\Users\\jonas\\anaconda3\\Lib\\site-packages\\pandas\\core\\arrays\\__init__.py\", line 1, in <module>\n",
      "    from pandas.core.arrays.arrow import ArrowExtensionArray\n",
      "  File \"c:\\Users\\jonas\\anaconda3\\Lib\\site-packages\\pandas\\core\\arrays\\arrow\\__init__.py\", line 5, in <module>\n",
      "    from pandas.core.arrays.arrow.array import ArrowExtensionArray\n",
      "  File \"c:\\Users\\jonas\\anaconda3\\Lib\\site-packages\\pandas\\core\\arrays\\arrow\\array.py\", line 50, in <module>\n",
      "    from pandas.core import (\n",
      "  File \"c:\\Users\\jonas\\anaconda3\\Lib\\site-packages\\pandas\\core\\ops\\__init__.py\", line 8, in <module>\n",
      "    from pandas.core.ops.array_ops import (\n",
      "  File \"c:\\Users\\jonas\\anaconda3\\Lib\\site-packages\\pandas\\core\\ops\\array_ops.py\", line 56, in <module>\n",
      "    from pandas.core.computation import expressions\n",
      "  File \"c:\\Users\\jonas\\anaconda3\\Lib\\site-packages\\pandas\\core\\computation\\expressions.py\", line 21, in <module>\n",
      "    from pandas.core.computation.check import NUMEXPR_INSTALLED\n",
      "  File \"c:\\Users\\jonas\\anaconda3\\Lib\\site-packages\\pandas\\core\\computation\\check.py\", line 5, in <module>\n",
      "    ne = import_optional_dependency(\"numexpr\", errors=\"warn\")\n",
      "  File \"c:\\Users\\jonas\\anaconda3\\Lib\\site-packages\\pandas\\compat\\_optional.py\", line 135, in import_optional_dependency\n",
      "    module = importlib.import_module(name)\n",
      "  File \"c:\\Users\\jonas\\anaconda3\\Lib\\importlib\\__init__.py\", line 90, in import_module\n",
      "    return _bootstrap._gcd_import(name[level:], package, level)\n",
      "  File \"c:\\Users\\jonas\\anaconda3\\Lib\\site-packages\\numexpr\\__init__.py\", line 24, in <module>\n",
      "    from numexpr.interpreter import MAX_THREADS, use_vml, __BLOCK_SIZE1__\n"
     ]
    },
    {
     "ename": "AttributeError",
     "evalue": "_ARRAY_API not found",
     "output_type": "error",
     "traceback": [
      "\u001b[1;31m---------------------------------------------------------------------------\u001b[0m",
      "\u001b[1;31mAttributeError\u001b[0m                            Traceback (most recent call last)",
      "\u001b[1;31mAttributeError\u001b[0m: _ARRAY_API not found"
     ]
    },
    {
     "name": "stderr",
     "output_type": "stream",
     "text": [
      "\n",
      "A module that was compiled using NumPy 1.x cannot be run in\n",
      "NumPy 2.3.3 as it may crash. To support both 1.x and 2.x\n",
      "versions of NumPy, modules must be compiled with NumPy 2.0.\n",
      "Some module may need to rebuild instead e.g. with 'pybind11>=2.12'.\n",
      "\n",
      "If you are a user of the module, the easiest solution will be to\n",
      "downgrade to 'numpy<2' or try to upgrade the affected module.\n",
      "We expect that some modules will need time to support NumPy 2.\n",
      "\n",
      "Traceback (most recent call last):  File \"<frozen runpy>\", line 198, in _run_module_as_main\n",
      "  File \"<frozen runpy>\", line 88, in _run_code\n",
      "  File \"c:\\Users\\jonas\\anaconda3\\Lib\\site-packages\\ipykernel_launcher.py\", line 17, in <module>\n",
      "    app.launch_new_instance()\n",
      "  File \"c:\\Users\\jonas\\anaconda3\\Lib\\site-packages\\traitlets\\config\\application.py\", line 1075, in launch_instance\n",
      "    app.start()\n",
      "  File \"c:\\Users\\jonas\\anaconda3\\Lib\\site-packages\\ipykernel\\kernelapp.py\", line 701, in start\n",
      "    self.io_loop.start()\n",
      "  File \"c:\\Users\\jonas\\anaconda3\\Lib\\site-packages\\tornado\\platform\\asyncio.py\", line 205, in start\n",
      "    self.asyncio_loop.run_forever()\n",
      "  File \"c:\\Users\\jonas\\anaconda3\\Lib\\asyncio\\windows_events.py\", line 322, in run_forever\n",
      "    super().run_forever()\n",
      "  File \"c:\\Users\\jonas\\anaconda3\\Lib\\asyncio\\base_events.py\", line 641, in run_forever\n",
      "    self._run_once()\n",
      "  File \"c:\\Users\\jonas\\anaconda3\\Lib\\asyncio\\base_events.py\", line 1986, in _run_once\n",
      "    handle._run()\n",
      "  File \"c:\\Users\\jonas\\anaconda3\\Lib\\asyncio\\events.py\", line 88, in _run\n",
      "    self._context.run(self._callback, *self._args)\n",
      "  File \"c:\\Users\\jonas\\anaconda3\\Lib\\site-packages\\ipykernel\\kernelbase.py\", line 534, in dispatch_queue\n",
      "    await self.process_one()\n",
      "  File \"c:\\Users\\jonas\\anaconda3\\Lib\\site-packages\\ipykernel\\kernelbase.py\", line 523, in process_one\n",
      "    await dispatch(*args)\n",
      "  File \"c:\\Users\\jonas\\anaconda3\\Lib\\site-packages\\ipykernel\\kernelbase.py\", line 429, in dispatch_shell\n",
      "    await result\n",
      "  File \"c:\\Users\\jonas\\anaconda3\\Lib\\site-packages\\ipykernel\\kernelbase.py\", line 767, in execute_request\n",
      "    reply_content = await reply_content\n",
      "  File \"c:\\Users\\jonas\\anaconda3\\Lib\\site-packages\\ipykernel\\ipkernel.py\", line 429, in do_execute\n",
      "    res = shell.run_cell(\n",
      "  File \"c:\\Users\\jonas\\anaconda3\\Lib\\site-packages\\ipykernel\\zmqshell.py\", line 549, in run_cell\n",
      "    return super().run_cell(*args, **kwargs)\n",
      "  File \"c:\\Users\\jonas\\anaconda3\\Lib\\site-packages\\IPython\\core\\interactiveshell.py\", line 3075, in run_cell\n",
      "    result = self._run_cell(\n",
      "  File \"c:\\Users\\jonas\\anaconda3\\Lib\\site-packages\\IPython\\core\\interactiveshell.py\", line 3130, in _run_cell\n",
      "    result = runner(coro)\n",
      "  File \"c:\\Users\\jonas\\anaconda3\\Lib\\site-packages\\IPython\\core\\async_helpers.py\", line 128, in _pseudo_sync_runner\n",
      "    coro.send(None)\n",
      "  File \"c:\\Users\\jonas\\anaconda3\\Lib\\site-packages\\IPython\\core\\interactiveshell.py\", line 3334, in run_cell_async\n",
      "    has_raised = await self.run_ast_nodes(code_ast.body, cell_name,\n",
      "  File \"c:\\Users\\jonas\\anaconda3\\Lib\\site-packages\\IPython\\core\\interactiveshell.py\", line 3517, in run_ast_nodes\n",
      "    if await self.run_code(code, result, async_=asy):\n",
      "  File \"c:\\Users\\jonas\\anaconda3\\Lib\\site-packages\\IPython\\core\\interactiveshell.py\", line 3577, in run_code\n",
      "    exec(code_obj, self.user_global_ns, self.user_ns)\n",
      "  File \"C:\\Users\\jonas\\AppData\\Local\\Temp\\ipykernel_8536\\3795637154.py\", line 1, in <module>\n",
      "    import pandas as pd\n",
      "  File \"c:\\Users\\jonas\\anaconda3\\Lib\\site-packages\\pandas\\__init__.py\", line 62, in <module>\n",
      "    from pandas.core.api import (\n",
      "  File \"c:\\Users\\jonas\\anaconda3\\Lib\\site-packages\\pandas\\core\\api.py\", line 28, in <module>\n",
      "    from pandas.core.arrays import Categorical\n",
      "  File \"c:\\Users\\jonas\\anaconda3\\Lib\\site-packages\\pandas\\core\\arrays\\__init__.py\", line 1, in <module>\n",
      "    from pandas.core.arrays.arrow import ArrowExtensionArray\n",
      "  File \"c:\\Users\\jonas\\anaconda3\\Lib\\site-packages\\pandas\\core\\arrays\\arrow\\__init__.py\", line 5, in <module>\n",
      "    from pandas.core.arrays.arrow.array import ArrowExtensionArray\n",
      "  File \"c:\\Users\\jonas\\anaconda3\\Lib\\site-packages\\pandas\\core\\arrays\\arrow\\array.py\", line 64, in <module>\n",
      "    from pandas.core.arrays.masked import BaseMaskedArray\n",
      "  File \"c:\\Users\\jonas\\anaconda3\\Lib\\site-packages\\pandas\\core\\arrays\\masked.py\", line 60, in <module>\n",
      "    from pandas.core import (\n",
      "  File \"c:\\Users\\jonas\\anaconda3\\Lib\\site-packages\\pandas\\core\\nanops.py\", line 52, in <module>\n",
      "    bn = import_optional_dependency(\"bottleneck\", errors=\"warn\")\n",
      "  File \"c:\\Users\\jonas\\anaconda3\\Lib\\site-packages\\pandas\\compat\\_optional.py\", line 135, in import_optional_dependency\n",
      "    module = importlib.import_module(name)\n",
      "  File \"c:\\Users\\jonas\\anaconda3\\Lib\\importlib\\__init__.py\", line 90, in import_module\n",
      "    return _bootstrap._gcd_import(name[level:], package, level)\n",
      "  File \"c:\\Users\\jonas\\anaconda3\\Lib\\site-packages\\bottleneck\\__init__.py\", line 7, in <module>\n",
      "    from .move import (move_argmax, move_argmin, move_max, move_mean, move_median,\n"
     ]
    },
    {
     "ename": "ImportError",
     "evalue": "\nA module that was compiled using NumPy 1.x cannot be run in\nNumPy 2.3.3 as it may crash. To support both 1.x and 2.x\nversions of NumPy, modules must be compiled with NumPy 2.0.\nSome module may need to rebuild instead e.g. with 'pybind11>=2.12'.\n\nIf you are a user of the module, the easiest solution will be to\ndowngrade to 'numpy<2' or try to upgrade the affected module.\nWe expect that some modules will need time to support NumPy 2.\n\n",
     "output_type": "error",
     "traceback": [
      "\u001b[1;31m---------------------------------------------------------------------------\u001b[0m",
      "\u001b[1;31mImportError\u001b[0m                               Traceback (most recent call last)",
      "File \u001b[1;32mc:\\Users\\jonas\\anaconda3\\Lib\\site-packages\\numpy\\core\\_multiarray_umath.py:46\u001b[0m, in \u001b[0;36m__getattr__\u001b[1;34m(attr_name)\u001b[0m\n\u001b[0;32m     41\u001b[0m     \u001b[38;5;66;03m# Also print the message (with traceback).  This is because old versions\u001b[39;00m\n\u001b[0;32m     42\u001b[0m     \u001b[38;5;66;03m# of NumPy unfortunately set up the import to replace (and hide) the\u001b[39;00m\n\u001b[0;32m     43\u001b[0m     \u001b[38;5;66;03m# error.  The traceback shouldn't be needed, but e.g. pytest plugins\u001b[39;00m\n\u001b[0;32m     44\u001b[0m     \u001b[38;5;66;03m# seem to swallow it and we should be failing anyway...\u001b[39;00m\n\u001b[0;32m     45\u001b[0m     sys\u001b[38;5;241m.\u001b[39mstderr\u001b[38;5;241m.\u001b[39mwrite(msg \u001b[38;5;241m+\u001b[39m tb_msg)\n\u001b[1;32m---> 46\u001b[0m     \u001b[38;5;28;01mraise\u001b[39;00m \u001b[38;5;167;01mImportError\u001b[39;00m(msg)\n\u001b[0;32m     48\u001b[0m ret \u001b[38;5;241m=\u001b[39m \u001b[38;5;28mgetattr\u001b[39m(_multiarray_umath, attr_name, \u001b[38;5;28;01mNone\u001b[39;00m)\n\u001b[0;32m     49\u001b[0m \u001b[38;5;28;01mif\u001b[39;00m ret \u001b[38;5;129;01mis\u001b[39;00m \u001b[38;5;28;01mNone\u001b[39;00m:\n",
      "\u001b[1;31mImportError\u001b[0m: \nA module that was compiled using NumPy 1.x cannot be run in\nNumPy 2.3.3 as it may crash. To support both 1.x and 2.x\nversions of NumPy, modules must be compiled with NumPy 2.0.\nSome module may need to rebuild instead e.g. with 'pybind11>=2.12'.\n\nIf you are a user of the module, the easiest solution will be to\ndowngrade to 'numpy<2' or try to upgrade the affected module.\nWe expect that some modules will need time to support NumPy 2.\n\n"
     ]
    }
   ],
   "source": [
    "import pandas as pd\n",
    "import math"
   ]
  },
  {
   "cell_type": "code",
   "execution_count": 4,
   "id": "dbb45295",
   "metadata": {},
   "outputs": [],
   "source": [
    "PATH_LOCAL = 'dataset/SOCS_Local-RFFRFS.csv'\n",
    "PATH_PTF4 = 'dataset/SOCS_T-PTF4.csv'"
   ]
  },
  {
   "cell_type": "code",
   "execution_count": 5,
   "id": "1c3718e7",
   "metadata": {},
   "outputs": [],
   "source": [
    "data_local = pd.read_csv(PATH_LOCAL)\n",
    "data_PATH_PTF4 = pd.read_csv(PATH_PTF4)"
   ]
  },
  {
   "cell_type": "code",
   "execution_count": 6,
   "id": "96c704fa",
   "metadata": {},
   "outputs": [
    {
     "name": "stdout",
     "output_type": "stream",
     "text": [
      "<class 'pandas.core.frame.DataFrame'>\n",
      "RangeIndex: 15389 entries, 0 to 15388\n",
      "Data columns (total 7 columns):\n",
      " #   Column           Non-Null Count  Dtype  \n",
      "---  ------           --------------  -----  \n",
      " 0   POINTID          15389 non-null  int64  \n",
      " 1   Bdfine (g cm-3)  15389 non-null  float64\n",
      " 2   SOCS (kg cm-2)   15389 non-null  float64\n",
      " 3   coarse_vol       15389 non-null  float64\n",
      " 4   GPS_LAT          15389 non-null  float64\n",
      " 5   GPS_LONG         15389 non-null  float64\n",
      " 6   BDfine  method   15389 non-null  object \n",
      "dtypes: float64(5), int64(1), object(1)\n",
      "memory usage: 841.7+ KB\n"
     ]
    }
   ],
   "source": [
    "data_local.info()"
   ]
  },
  {
   "cell_type": "code",
   "execution_count": 7,
   "id": "9c87fcf7",
   "metadata": {},
   "outputs": [
    {
     "name": "stdout",
     "output_type": "stream",
     "text": [
      "<class 'pandas.core.frame.DataFrame'>\n",
      "RangeIndex: 18945 entries, 0 to 18944\n",
      "Data columns (total 7 columns):\n",
      " #   Column           Non-Null Count  Dtype  \n",
      "---  ------           --------------  -----  \n",
      " 0   POINTID          18945 non-null  int64  \n",
      " 1   Bdfine (g cm-3)  18945 non-null  float64\n",
      " 2   SOCS (kg cm-2)   18945 non-null  float64\n",
      " 3   coarse_vol       18945 non-null  float64\n",
      " 4   GPS_LAT          18945 non-null  float64\n",
      " 5   GPS_LONG         18945 non-null  float64\n",
      " 6   BDfine  method   18945 non-null  object \n",
      "dtypes: float64(5), int64(1), object(1)\n",
      "memory usage: 1.0+ MB\n"
     ]
    }
   ],
   "source": [
    "data_PATH_PTF4.info()"
   ]
  },
  {
   "cell_type": "code",
   "execution_count": 8,
   "id": "3c7b0233",
   "metadata": {},
   "outputs": [
    {
     "data": {
      "text/html": [
       "<div>\n",
       "<style scoped>\n",
       "    .dataframe tbody tr th:only-of-type {\n",
       "        vertical-align: middle;\n",
       "    }\n",
       "\n",
       "    .dataframe tbody tr th {\n",
       "        vertical-align: top;\n",
       "    }\n",
       "\n",
       "    .dataframe thead th {\n",
       "        text-align: right;\n",
       "    }\n",
       "</style>\n",
       "<table border=\"1\" class=\"dataframe\">\n",
       "  <thead>\n",
       "    <tr style=\"text-align: right;\">\n",
       "      <th></th>\n",
       "      <th>POINTID</th>\n",
       "      <th>Bdfine (g cm-3)</th>\n",
       "      <th>SOCS (kg cm-2)</th>\n",
       "      <th>coarse_vol</th>\n",
       "      <th>GPS_LAT</th>\n",
       "      <th>GPS_LONG</th>\n",
       "      <th>BDfine  method</th>\n",
       "    </tr>\n",
       "  </thead>\n",
       "  <tbody>\n",
       "    <tr>\n",
       "      <th>0</th>\n",
       "      <td>35582326</td>\n",
       "      <td>1.19</td>\n",
       "      <td>5.24</td>\n",
       "      <td>0.14</td>\n",
       "      <td>43.609317</td>\n",
       "      <td>0.544198</td>\n",
       "      <td>Measurement</td>\n",
       "    </tr>\n",
       "    <tr>\n",
       "      <th>1</th>\n",
       "      <td>46764408</td>\n",
       "      <td>0.96</td>\n",
       "      <td>4.35</td>\n",
       "      <td>0.05</td>\n",
       "      <td>62.617261</td>\n",
       "      <td>16.897350</td>\n",
       "      <td>Measurement</td>\n",
       "    </tr>\n",
       "    <tr>\n",
       "      <th>2</th>\n",
       "      <td>51464814</td>\n",
       "      <td>0.79</td>\n",
       "      <td>6.33</td>\n",
       "      <td>0.01</td>\n",
       "      <td>65.472827</td>\n",
       "      <td>27.909976</td>\n",
       "      <td>Measurement</td>\n",
       "    </tr>\n",
       "    <tr>\n",
       "      <th>3</th>\n",
       "      <td>29901692</td>\n",
       "      <td>1.17</td>\n",
       "      <td>2.06</td>\n",
       "      <td>0.08</td>\n",
       "      <td>37.127066</td>\n",
       "      <td>-4.962568</td>\n",
       "      <td>Measurement</td>\n",
       "    </tr>\n",
       "    <tr>\n",
       "      <th>4</th>\n",
       "      <td>31841902</td>\n",
       "      <td>1.06</td>\n",
       "      <td>2.77</td>\n",
       "      <td>0.02</td>\n",
       "      <td>39.318784</td>\n",
       "      <td>-3.181327</td>\n",
       "      <td>Measurement</td>\n",
       "    </tr>\n",
       "  </tbody>\n",
       "</table>\n",
       "</div>"
      ],
      "text/plain": [
       "    POINTID  Bdfine (g cm-3)  SOCS (kg cm-2)  coarse_vol    GPS_LAT  \\\n",
       "0  35582326             1.19            5.24        0.14  43.609317   \n",
       "1  46764408             0.96            4.35        0.05  62.617261   \n",
       "2  51464814             0.79            6.33        0.01  65.472827   \n",
       "3  29901692             1.17            2.06        0.08  37.127066   \n",
       "4  31841902             1.06            2.77        0.02  39.318784   \n",
       "\n",
       "    GPS_LONG BDfine  method   \n",
       "0   0.544198     Measurement  \n",
       "1  16.897350     Measurement  \n",
       "2  27.909976     Measurement  \n",
       "3  -4.962568     Measurement  \n",
       "4  -3.181327     Measurement  "
      ]
     },
     "execution_count": 8,
     "metadata": {},
     "output_type": "execute_result"
    }
   ],
   "source": [
    "data_local.head()"
   ]
  },
  {
   "cell_type": "code",
   "execution_count": 9,
   "id": "9d39648c",
   "metadata": {},
   "outputs": [
    {
     "data": {
      "text/html": [
       "<div>\n",
       "<style scoped>\n",
       "    .dataframe tbody tr th:only-of-type {\n",
       "        vertical-align: middle;\n",
       "    }\n",
       "\n",
       "    .dataframe tbody tr th {\n",
       "        vertical-align: top;\n",
       "    }\n",
       "\n",
       "    .dataframe thead th {\n",
       "        text-align: right;\n",
       "    }\n",
       "</style>\n",
       "<table border=\"1\" class=\"dataframe\">\n",
       "  <thead>\n",
       "    <tr style=\"text-align: right;\">\n",
       "      <th></th>\n",
       "      <th>POINTID</th>\n",
       "      <th>Bdfine (g cm-3)</th>\n",
       "      <th>SOCS (kg cm-2)</th>\n",
       "      <th>coarse_vol</th>\n",
       "      <th>GPS_LAT</th>\n",
       "      <th>GPS_LONG</th>\n",
       "      <th>BDfine  method</th>\n",
       "    </tr>\n",
       "  </thead>\n",
       "  <tbody>\n",
       "    <tr>\n",
       "      <th>0</th>\n",
       "      <td>35582326</td>\n",
       "      <td>1.19</td>\n",
       "      <td>5.24</td>\n",
       "      <td>0.14</td>\n",
       "      <td>43.609317</td>\n",
       "      <td>0.544198</td>\n",
       "      <td>Measurement</td>\n",
       "    </tr>\n",
       "    <tr>\n",
       "      <th>1</th>\n",
       "      <td>46764408</td>\n",
       "      <td>0.96</td>\n",
       "      <td>4.35</td>\n",
       "      <td>0.05</td>\n",
       "      <td>62.617261</td>\n",
       "      <td>16.897350</td>\n",
       "      <td>Measurement</td>\n",
       "    </tr>\n",
       "    <tr>\n",
       "      <th>2</th>\n",
       "      <td>51464814</td>\n",
       "      <td>0.79</td>\n",
       "      <td>6.33</td>\n",
       "      <td>0.01</td>\n",
       "      <td>65.472827</td>\n",
       "      <td>27.909976</td>\n",
       "      <td>Measurement</td>\n",
       "    </tr>\n",
       "    <tr>\n",
       "      <th>3</th>\n",
       "      <td>29901692</td>\n",
       "      <td>1.17</td>\n",
       "      <td>2.06</td>\n",
       "      <td>0.08</td>\n",
       "      <td>37.127066</td>\n",
       "      <td>-4.962568</td>\n",
       "      <td>Measurement</td>\n",
       "    </tr>\n",
       "    <tr>\n",
       "      <th>4</th>\n",
       "      <td>31841902</td>\n",
       "      <td>1.06</td>\n",
       "      <td>2.77</td>\n",
       "      <td>0.02</td>\n",
       "      <td>39.318784</td>\n",
       "      <td>-3.181327</td>\n",
       "      <td>Measurement</td>\n",
       "    </tr>\n",
       "  </tbody>\n",
       "</table>\n",
       "</div>"
      ],
      "text/plain": [
       "    POINTID  Bdfine (g cm-3)  SOCS (kg cm-2)  coarse_vol    GPS_LAT  \\\n",
       "0  35582326             1.19            5.24        0.14  43.609317   \n",
       "1  46764408             0.96            4.35        0.05  62.617261   \n",
       "2  51464814             0.79            6.33        0.01  65.472827   \n",
       "3  29901692             1.17            2.06        0.08  37.127066   \n",
       "4  31841902             1.06            2.77        0.02  39.318784   \n",
       "\n",
       "    GPS_LONG BDfine  method   \n",
       "0   0.544198     Measurement  \n",
       "1  16.897350     Measurement  \n",
       "2  27.909976     Measurement  \n",
       "3  -4.962568     Measurement  \n",
       "4  -3.181327     Measurement  "
      ]
     },
     "execution_count": 9,
     "metadata": {},
     "output_type": "execute_result"
    }
   ],
   "source": [
    "data_PATH_PTF4.head()"
   ]
  },
  {
   "cell_type": "code",
   "execution_count": 10,
   "id": "eb865b77",
   "metadata": {},
   "outputs": [
    {
     "data": {
      "text/plain": [
       "Index(['POINTID', 'Bdfine (g cm-3)', 'SOCS (kg cm-2)', 'coarse_vol', 'GPS_LAT',\n",
       "       'GPS_LONG', 'BDfine  method '],\n",
       "      dtype='object')"
      ]
     },
     "execution_count": 10,
     "metadata": {},
     "output_type": "execute_result"
    }
   ],
   "source": [
    "colunas = data_local.columns\n",
    "colunas"
   ]
  },
  {
   "cell_type": "code",
   "execution_count": 11,
   "id": "d4f5db02",
   "metadata": {},
   "outputs": [
    {
     "name": "stdout",
     "output_type": "stream",
     "text": [
      "train: 10772 rows, test: 4617 rows\n"
     ]
    }
   ],
   "source": [
    "split_idx = int(len(data_local) * 0.7)\n",
    "train = data_local.iloc[:split_idx].reset_index(drop=True)\n",
    "test = data_local.iloc[split_idx:].reset_index(drop=True)\n",
    "print(f\"train: {len(train)} rows, test: {len(test)} rows\")"
   ]
  },
  {
   "cell_type": "code",
   "execution_count": 12,
   "id": "663bc6dc",
   "metadata": {},
   "outputs": [],
   "source": [
    "column_used = 'SOCS (kg cm-2)'"
   ]
  },
  {
   "cell_type": "code",
   "execution_count": 13,
   "id": "7bcd27c4",
   "metadata": {},
   "outputs": [],
   "source": [
    "x_train = train[colunas[1]]\n",
    "y_train = train[column_used]\n",
    "\n",
    "x_test = test[colunas[1]]\n",
    "y_test = test[column_used]"
   ]
  },
  {
   "cell_type": "code",
   "execution_count": null,
   "id": "0587be9f",
   "metadata": {},
   "outputs": [],
   "source": []
  },
  {
   "cell_type": "code",
   "execution_count": 14,
   "id": "9b33db93",
   "metadata": {},
   "outputs": [
    {
     "data": {
      "text/plain": [
       "(np.float64(-12.202964553932883), np.float64(17.26722299756049))"
      ]
     },
     "execution_count": 14,
     "metadata": {},
     "output_type": "execute_result"
    }
   ],
   "source": [
    "def calculo_b1_b0(column_x,column_y):\n",
    "    x_mean = column_x.sum() / len(column_x)\n",
    "    y_mean = column_y.sum() / len(column_y)\n",
    "    \n",
    "    numerador = 0\n",
    "    denominador = 0\n",
    "    \n",
    "    for i in range(len(column_x)):\n",
    "        numerador += (column_x[i] - x_mean) * (column_y[i] - y_mean)\n",
    "        denominador += (column_x[i] - x_mean) ** 2\n",
    "    \n",
    "    b1 = numerador / denominador\n",
    "    \n",
    "    b0 = y_mean - (x_mean*b1)\n",
    "    \n",
    "    return b1,b0\n",
    "\n",
    "b1,b0 = calculo_b1_b0(x_train,y_train)\n",
    "b1,b0"
   ]
  },
  {
   "cell_type": "code",
   "execution_count": 15,
   "id": "7b64673e",
   "metadata": {},
   "outputs": [],
   "source": [
    "def calculo_pred(b1,b0,x):\n",
    "    return (b1 * x) + b0"
   ]
  },
  {
   "cell_type": "code",
   "execution_count": 16,
   "id": "d1f91fa4",
   "metadata": {},
   "outputs": [],
   "source": [
    "def pred_test(column_x_test):\n",
    "    column_y_pred = []\n",
    "    \n",
    "    for x in column_x_test:\n",
    "        column_y_pred.append(calculo_pred(b1,b0,x))\n",
    "    \n",
    "    return column_y_pred\n",
    "column_y_pred = pred_test(x_test)"
   ]
  },
  {
   "cell_type": "code",
   "execution_count": 17,
   "id": "41bfb402",
   "metadata": {},
   "outputs": [
    {
     "data": {
      "text/plain": [
       "5.176580668486614"
      ]
     },
     "execution_count": 17,
     "metadata": {},
     "output_type": "execute_result"
    }
   ],
   "source": [
    "def rmse(column_y_real,column_y_pred):\n",
    "    n = len(column_y_real)\n",
    "    numerador = 0.0\n",
    "    \n",
    "    for i in range(n):\n",
    "        numerador += (column_y_real[i] - column_y_pred[i]) ** 2\n",
    "    \n",
    "    result = numerador / n\n",
    "    \n",
    "    return math.sqrt(result)\n",
    "\n",
    "rmse(y_test,column_y_pred)"
   ]
  },
  {
   "cell_type": "code",
   "execution_count": 18,
   "id": "25855367",
   "metadata": {},
   "outputs": [
    {
     "data": {
      "text/plain": [
       "np.float64(26.79698741734932)"
      ]
     },
     "execution_count": 18,
     "metadata": {},
     "output_type": "execute_result"
    }
   ],
   "source": [
    "def mse(column_y_real,column_y_pred):\n",
    "    n = len(column_y_real)\n",
    "    numerador = 0.0\n",
    "    \n",
    "    for i in range(n):\n",
    "        numerador += (column_y_real[i] - column_y_pred[i]) ** 2\n",
    "    \n",
    "    result = numerador / n\n",
    "    \n",
    "    return result\n",
    "\n",
    "mse(y_test,column_y_pred)"
   ]
  },
  {
   "cell_type": "code",
   "execution_count": null,
   "id": "34c5cfca",
   "metadata": {},
   "outputs": [
    {
     "name": "stdout",
     "output_type": "stream",
     "text": [
      "Melhor coluna:  com RMSE: inf\n"
     ]
    },
    {
     "ename": "NameError",
     "evalue": "name 'column' is not defined",
     "output_type": "error",
     "traceback": [
      "\u001b[1;31m---------------------------------------------------------------------------\u001b[0m",
      "\u001b[1;31mNameError\u001b[0m                                 Traceback (most recent call last)",
      "Cell \u001b[1;32mIn[19], line 24\u001b[0m\n\u001b[0;32m     22\u001b[0m \u001b[38;5;28;01mif\u001b[39;00m rmse_value \u001b[38;5;241m<\u001b[39m best_rmse:\n\u001b[0;32m     23\u001b[0m     best_rmse \u001b[38;5;241m=\u001b[39m rmse_value\n\u001b[1;32m---> 24\u001b[0m     best_column \u001b[38;5;241m=\u001b[39m column\n\u001b[0;32m     26\u001b[0m \u001b[38;5;28mprint\u001b[39m(\u001b[38;5;124mf\u001b[39m\u001b[38;5;124m\"\u001b[39m\u001b[38;5;124mColuna: \u001b[39m\u001b[38;5;132;01m{\u001b[39;00mcolumn\u001b[38;5;132;01m}\u001b[39;00m\u001b[38;5;124m\"\u001b[39m)\n\u001b[0;32m     27\u001b[0m \u001b[38;5;28mprint\u001b[39m(\u001b[38;5;124mf\u001b[39m\u001b[38;5;124m\"\u001b[39m\u001b[38;5;124mRMSE: \u001b[39m\u001b[38;5;132;01m{\u001b[39;00mrmse_value\u001b[38;5;132;01m}\u001b[39;00m\u001b[38;5;124m\"\u001b[39m)\n",
      "\u001b[1;31mNameError\u001b[0m: name 'column' is not defined"
     ]
    }
   ],
   "source": [
    "best_column = ''\n",
    "best_rmse = float('inf')\n",
    "\n",
    "\n",
    "for column_x in colunas:\n",
    "    column_used = column_x\n",
    "    y_train = train[column_used]\n",
    "    y_test = test[column_used]\n",
    "    \n",
    "    for column_y in colunas:\n",
    "        if column_x != column_y:\n",
    "            if train[column_y].dtype in ['float64', 'int64']:\n",
    "                x_train = train[column_y]\n",
    "                x_test = test[column_y]\n",
    "                \n",
    "                b1,b0 = calculo_b1_b0(x_train,y_train)\n",
    "                column_y_pred = pred_test(x_test)\n",
    "                \n",
    "                rmse_value = rmse(y_test,column_y_pred)\n",
    "                mse_value = mse(y_test,column_y_pred)\n",
    "                \n",
    "                if rmse_value < best_rmse:\n",
    "                    best_rmse = rmse_value\n",
    "                    best_column = column_y\n",
    "                \n",
    "                print(f\"Coluna: {column_y}\")\n",
    "                print(f\"RMSE: {rmse_value}\")\n",
    "                print(f\"MSE: {mse_value}\")\n",
    "                print(\"---\")\n",
    "            else:\n",
    "                print(f\"Pulando coluna categórica: {column_y}\")\n",
    "\n",
    "        print(f\"Melhor coluna: {best_column} com RMSE: {best_rmse}\")"
   ]
  }
 ],
 "metadata": {
  "kernelspec": {
   "display_name": "base",
   "language": "python",
   "name": "python3"
  },
  "language_info": {
   "codemirror_mode": {
    "name": "ipython",
    "version": 3
   },
   "file_extension": ".py",
   "mimetype": "text/x-python",
   "name": "python",
   "nbconvert_exporter": "python",
   "pygments_lexer": "ipython3",
   "version": "3.12.7"
  }
 },
 "nbformat": 4,
 "nbformat_minor": 5
}
