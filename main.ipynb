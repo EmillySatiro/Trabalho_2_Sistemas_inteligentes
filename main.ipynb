{
 "cells": [
  {
   "cell_type": "code",
   "execution_count": 75,
   "id": "036932e0",
   "metadata": {},
   "outputs": [
    {
     "name": "stdout",
     "output_type": "stream",
     "text": [
      "Note: you may need to restart the kernel to use updated packages.\n"
     ]
    },
    {
     "name": "stderr",
     "output_type": "stream",
     "text": [
      "\n",
      "[notice] A new release of pip is available: 25.1.1 -> 25.2\n",
      "[notice] To update, run: python.exe -m pip install --upgrade pip\n"
     ]
    }
   ],
   "source": [
    "%pip install -r requirements.txt -q"
   ]
  },
  {
   "cell_type": "code",
   "execution_count": 76,
   "id": "b5ef259a",
   "metadata": {},
   "outputs": [
    {
     "name": "stderr",
     "output_type": "stream",
     "text": [
      "A subdirectory or file dataset already exists.\n",
      "  % Total    % Received % Xferd  Average Speed   Time    Time     Time  Current\n",
      "                                 Dload  Upload   Total   Spent    Left  Speed\n",
      "\n",
      "  0     0    0     0    0     0      0      0 --:--:-- --:--:-- --:--:--     0\n",
      "100 16309    0 16309    0     0  18675      0 --:--:-- --:--:-- --:--:-- 18681\n",
      "100 85941    0 85941    0     0  44471      0 --:--:--  0:00:01 --:--:-- 44482\n",
      "100  163k    0  163k    0     0  59709      0 --:--:--  0:00:02 --:--:-- 59715\n",
      "100  255k    0  255k    0     0  68348      0 --:--:--  0:00:03 --:--:-- 68353\n",
      "100  347k    0  347k    0     0  74072      0 --:--:--  0:00:04 --:--:-- 74085\n",
      "100  467k    0  467k    0     0  81780      0 --:--:--  0:00:05 --:--:-- 92829\n",
      "100  627k    0  627k    0     0  93788      0 --:--:--  0:00:06 --:--:--  110k\n",
      "100  843k    0  843k    0     0   108k      0 --:--:--  0:00:07 --:--:--  135k\n",
      "100  887k    0  887k    0     0   110k      0 --:--:--  0:00:08 --:--:--  151k\n"
     ]
    }
   ],
   "source": [
    "!mkdir dataset\n",
    "!curl -L -o dataset/micro_gas_turbine_electrical_energy_prediction.zip https://archive.ics.uci.edu/static/public/994/micro+gas+turbine+electrical+energy+prediction.zip"
   ]
  },
  {
   "cell_type": "code",
   "execution_count": 77,
   "id": "596f2092",
   "metadata": {},
   "outputs": [],
   "source": [
    "import pandas as pd\n",
    "import math\n",
    "import glob\n",
    "import matplotlib.pyplot as plt\n",
    "import zipfile\n",
    "from sklearn.preprocessing import StandardScaler"
   ]
  },
  {
   "cell_type": "code",
   "execution_count": 78,
   "id": "2f9bf1de",
   "metadata": {},
   "outputs": [],
   "source": [
    "zipfile.ZipFile('dataset/micro_gas_turbine_electrical_energy_prediction.zip').extractall('dataset/')\n",
    "zipfile.ZipFile('dataset/test.zip').extractall('dataset/')\n",
    "zipfile.ZipFile('dataset/train.zip').extractall('dataset/')"
   ]
  },
  {
   "cell_type": "code",
   "execution_count": 79,
   "id": "dbb45295",
   "metadata": {},
   "outputs": [],
   "source": [
    "path_test = glob.glob('dataset/test/*.csv')\n",
    "path_train = glob.glob('dataset/train/*.csv')"
   ]
  },
  {
   "cell_type": "code",
   "execution_count": 80,
   "id": "1c3718e7",
   "metadata": {},
   "outputs": [
    {
     "data": {
      "text/plain": [
       "(52940, 18285)"
      ]
     },
     "execution_count": 80,
     "metadata": {},
     "output_type": "execute_result"
    }
   ],
   "source": [
    "# Juntar todos os arquivos de treino em um único DataFrame\n",
    "df_train = pd.concat([pd.read_csv(f) for f in path_train], ignore_index=True)\n",
    "df_test = pd.concat([pd.read_csv(f) for f in path_test], ignore_index=True) \n",
    "len(df_train), len(df_test)"
   ]
  },
  {
   "cell_type": "code",
   "execution_count": 81,
   "id": "9b90f7d2",
   "metadata": {},
   "outputs": [
    {
     "data": {
      "application/vnd.microsoft.datawrangler.viewer.v0+json": {
       "columns": [
        {
         "name": "index",
         "rawType": "int64",
         "type": "integer"
        },
        {
         "name": "time",
         "rawType": "float64",
         "type": "float"
        },
        {
         "name": "input_voltage",
         "rawType": "float64",
         "type": "float"
        },
        {
         "name": "el_power",
         "rawType": "float64",
         "type": "float"
        }
       ],
       "ref": "b86786ab-4fea-4ab4-8e70-1ed09d93cc61",
       "rows": [
        [
         "0",
         "810.07028",
         "10.0",
         "1228.79172023015"
        ],
        [
         "1",
         "811.06938",
         "10.0",
         "1223.04174518756"
        ],
        [
         "2",
         "812.06848",
         "10.0",
         "1244.96086584765"
        ],
        [
         "3",
         "813.06758",
         "10.0",
         "1229.259057673"
        ],
        [
         "4",
         "814.06668",
         "10.0",
         "1248.11702383749"
        ]
       ],
       "shape": {
        "columns": 3,
        "rows": 5
       }
      },
      "text/html": [
       "<div>\n",
       "<style scoped>\n",
       "    .dataframe tbody tr th:only-of-type {\n",
       "        vertical-align: middle;\n",
       "    }\n",
       "\n",
       "    .dataframe tbody tr th {\n",
       "        vertical-align: top;\n",
       "    }\n",
       "\n",
       "    .dataframe thead th {\n",
       "        text-align: right;\n",
       "    }\n",
       "</style>\n",
       "<table border=\"1\" class=\"dataframe\">\n",
       "  <thead>\n",
       "    <tr style=\"text-align: right;\">\n",
       "      <th></th>\n",
       "      <th>time</th>\n",
       "      <th>input_voltage</th>\n",
       "      <th>el_power</th>\n",
       "    </tr>\n",
       "  </thead>\n",
       "  <tbody>\n",
       "    <tr>\n",
       "      <th>0</th>\n",
       "      <td>810.07028</td>\n",
       "      <td>10.0</td>\n",
       "      <td>1228.791720</td>\n",
       "    </tr>\n",
       "    <tr>\n",
       "      <th>1</th>\n",
       "      <td>811.06938</td>\n",
       "      <td>10.0</td>\n",
       "      <td>1223.041745</td>\n",
       "    </tr>\n",
       "    <tr>\n",
       "      <th>2</th>\n",
       "      <td>812.06848</td>\n",
       "      <td>10.0</td>\n",
       "      <td>1244.960866</td>\n",
       "    </tr>\n",
       "    <tr>\n",
       "      <th>3</th>\n",
       "      <td>813.06758</td>\n",
       "      <td>10.0</td>\n",
       "      <td>1229.259058</td>\n",
       "    </tr>\n",
       "    <tr>\n",
       "      <th>4</th>\n",
       "      <td>814.06668</td>\n",
       "      <td>10.0</td>\n",
       "      <td>1248.117024</td>\n",
       "    </tr>\n",
       "  </tbody>\n",
       "</table>\n",
       "</div>"
      ],
      "text/plain": [
       "        time  input_voltage     el_power\n",
       "0  810.07028           10.0  1228.791720\n",
       "1  811.06938           10.0  1223.041745\n",
       "2  812.06848           10.0  1244.960866\n",
       "3  813.06758           10.0  1229.259058\n",
       "4  814.06668           10.0  1248.117024"
      ]
     },
     "execution_count": 81,
     "metadata": {},
     "output_type": "execute_result"
    }
   ],
   "source": [
    "df_train.head()"
   ]
  },
  {
   "cell_type": "code",
   "execution_count": 82,
   "id": "476218ef",
   "metadata": {},
   "outputs": [
    {
     "data": {
      "text/plain": [
       "(np.float64(810.0), np.float64(12636.84), np.float64(3.2852333333333332))"
      ]
     },
     "execution_count": 82,
     "metadata": {},
     "output_type": "execute_result"
    }
   ],
   "source": [
    "# Verificar o tempo de cada medição\n",
    "df_train['time'].min(), df_train['time'].max(), (df_train['time'].max() - df_train['time'].min()) / 3600"
   ]
  },
  {
   "cell_type": "code",
   "execution_count": 83,
   "id": "22c7174d",
   "metadata": {},
   "outputs": [
    {
     "data": {
      "text/plain": [
       "(np.float64(758.425813187233),\n",
       " np.float64(10545.5323989833),\n",
       " np.float64(2.7186407182766854))"
      ]
     },
     "execution_count": 83,
     "metadata": {},
     "output_type": "execute_result"
    }
   ],
   "source": [
    "df_test['time'].min(), df_test['time'].max(), (df_test['time'].max() - df_test['time'].min()) / 3600"
   ]
  },
  {
   "cell_type": "code",
   "execution_count": 84,
   "id": "01bb85cd",
   "metadata": {},
   "outputs": [
    {
     "data": {
      "application/vnd.microsoft.datawrangler.viewer.v0+json": {
       "columns": [
        {
         "name": "index",
         "rawType": "int64",
         "type": "integer"
        },
        {
         "name": "time",
         "rawType": "float64",
         "type": "float"
        },
        {
         "name": "input_voltage",
         "rawType": "float64",
         "type": "float"
        },
        {
         "name": "el_power",
         "rawType": "float64",
         "type": "float"
        }
       ],
       "ref": "59b097a6-9956-4901-9d9d-18aeb4525566",
       "rows": [
        [
         "0",
         "880.3",
         "3.0",
         "1193.14071267369"
        ],
        [
         "1",
         "881.3",
         "3.0",
         "1107.0664206039"
        ],
        [
         "2",
         "882.3",
         "3.0",
         "1180.40676728031"
        ],
        [
         "3",
         "883.3",
         "3.0",
         "1095.55149813213"
        ],
        [
         "4",
         "884.3",
         "3.0",
         "1177.07371862145"
        ]
       ],
       "shape": {
        "columns": 3,
        "rows": 5
       }
      },
      "text/html": [
       "<div>\n",
       "<style scoped>\n",
       "    .dataframe tbody tr th:only-of-type {\n",
       "        vertical-align: middle;\n",
       "    }\n",
       "\n",
       "    .dataframe tbody tr th {\n",
       "        vertical-align: top;\n",
       "    }\n",
       "\n",
       "    .dataframe thead th {\n",
       "        text-align: right;\n",
       "    }\n",
       "</style>\n",
       "<table border=\"1\" class=\"dataframe\">\n",
       "  <thead>\n",
       "    <tr style=\"text-align: right;\">\n",
       "      <th></th>\n",
       "      <th>time</th>\n",
       "      <th>input_voltage</th>\n",
       "      <th>el_power</th>\n",
       "    </tr>\n",
       "  </thead>\n",
       "  <tbody>\n",
       "    <tr>\n",
       "      <th>0</th>\n",
       "      <td>880.3</td>\n",
       "      <td>3.0</td>\n",
       "      <td>1193.140713</td>\n",
       "    </tr>\n",
       "    <tr>\n",
       "      <th>1</th>\n",
       "      <td>881.3</td>\n",
       "      <td>3.0</td>\n",
       "      <td>1107.066421</td>\n",
       "    </tr>\n",
       "    <tr>\n",
       "      <th>2</th>\n",
       "      <td>882.3</td>\n",
       "      <td>3.0</td>\n",
       "      <td>1180.406767</td>\n",
       "    </tr>\n",
       "    <tr>\n",
       "      <th>3</th>\n",
       "      <td>883.3</td>\n",
       "      <td>3.0</td>\n",
       "      <td>1095.551498</td>\n",
       "    </tr>\n",
       "    <tr>\n",
       "      <th>4</th>\n",
       "      <td>884.3</td>\n",
       "      <td>3.0</td>\n",
       "      <td>1177.073719</td>\n",
       "    </tr>\n",
       "  </tbody>\n",
       "</table>\n",
       "</div>"
      ],
      "text/plain": [
       "    time  input_voltage     el_power\n",
       "0  880.3            3.0  1193.140713\n",
       "1  881.3            3.0  1107.066421\n",
       "2  882.3            3.0  1180.406767\n",
       "3  883.3            3.0  1095.551498\n",
       "4  884.3            3.0  1177.073719"
      ]
     },
     "execution_count": 84,
     "metadata": {},
     "output_type": "execute_result"
    }
   ],
   "source": [
    "df_test.head()"
   ]
  },
  {
   "cell_type": "code",
   "execution_count": 85,
   "id": "ea29a0c2",
   "metadata": {},
   "outputs": [],
   "source": [
    "colunas = df_train.columns"
   ]
  },
  {
   "cell_type": "code",
   "execution_count": 86,
   "id": "663bc6dc",
   "metadata": {},
   "outputs": [
    {
     "data": {
      "text/plain": [
       "'el_power'"
      ]
     },
     "execution_count": 86,
     "metadata": {},
     "output_type": "execute_result"
    }
   ],
   "source": [
    "column_used = colunas[-1]  # Target column\n",
    "column_used"
   ]
  },
  {
   "cell_type": "markdown",
   "id": "cb14b027",
   "metadata": {},
   "source": [
    "# Funções utilizadas e base para a análise temporária"
   ]
  },
  {
   "cell_type": "code",
   "execution_count": 87,
   "id": "7bcd27c4",
   "metadata": {},
   "outputs": [],
   "source": [
    "x_train = df_train[colunas[0]]\n",
    "y_train = df_train[column_used]\n",
    "\n",
    "x_test = df_test[colunas[0]]\n",
    "y_test = df_test[column_used]"
   ]
  },
  {
   "cell_type": "code",
   "execution_count": 88,
   "id": "9b33db93",
   "metadata": {},
   "outputs": [
    {
     "data": {
      "text/plain": [
       "(np.float64(0.056726897947851566), np.float64(1525.2797606834586))"
      ]
     },
     "execution_count": 88,
     "metadata": {},
     "output_type": "execute_result"
    }
   ],
   "source": [
    "def calculo_b1_b0(column_x,column_y):\n",
    "    x_mean = column_x.sum() / len(column_x)\n",
    "    y_mean = column_y.sum() / len(column_y)\n",
    "    \n",
    "    numerador = 0\n",
    "    denominador = 0\n",
    "    \n",
    "    for i in range(len(column_x)):\n",
    "        numerador += (column_x[i] - x_mean) * (column_y[i] - y_mean)\n",
    "        denominador += (column_x[i] - x_mean) ** 2\n",
    "    \n",
    "    b1 = numerador / denominador\n",
    "    \n",
    "    b0 = y_mean - (x_mean*b1)\n",
    "    \n",
    "    return b1,b0\n",
    "\n",
    "b1,b0 = calculo_b1_b0(x_train,y_train)\n",
    "b1,b0"
   ]
  },
  {
   "cell_type": "code",
   "execution_count": 89,
   "id": "7b64673e",
   "metadata": {},
   "outputs": [],
   "source": [
    "def calculo_pred(b1,b0,x):\n",
    "    return (b1 * x) + b0"
   ]
  },
  {
   "cell_type": "code",
   "execution_count": 90,
   "id": "d1f91fa4",
   "metadata": {},
   "outputs": [],
   "source": [
    "def pred_test(column_x_test):\n",
    "    column_y_pred = []\n",
    "    \n",
    "    for x in column_x_test:\n",
    "        column_y_pred.append(calculo_pred(b1,b0,x))\n",
    "    \n",
    "    return column_y_pred\n",
    "column_y_pred = pred_test(x_test)"
   ]
  },
  {
   "cell_type": "code",
   "execution_count": 91,
   "id": "41bfb402",
   "metadata": {},
   "outputs": [
    {
     "data": {
      "text/plain": [
       "765.7460874262545"
      ]
     },
     "execution_count": 91,
     "metadata": {},
     "output_type": "execute_result"
    }
   ],
   "source": [
    "def rmse(column_y_real,column_y_pred):\n",
    "    n = len(column_y_real)\n",
    "    numerador = 0.0\n",
    "    \n",
    "    for i in range(n):\n",
    "        numerador += (column_y_real[i] - column_y_pred[i]) ** 2\n",
    "    \n",
    "    result = numerador / n\n",
    "    \n",
    "    return math.sqrt(result)\n",
    "\n",
    "rmse(y_test,column_y_pred)"
   ]
  },
  {
   "cell_type": "code",
   "execution_count": 92,
   "id": "25855367",
   "metadata": {},
   "outputs": [
    {
     "data": {
      "text/plain": [
       "np.float64(586367.0704086169)"
      ]
     },
     "execution_count": 92,
     "metadata": {},
     "output_type": "execute_result"
    }
   ],
   "source": [
    "def mse(column_y_real,column_y_pred):\n",
    "    n = len(column_y_real)\n",
    "    numerador = 0.0\n",
    "    \n",
    "    for i in range(n):\n",
    "        numerador += (column_y_real[i] - column_y_pred[i]) ** 2\n",
    "    \n",
    "    result = numerador / n\n",
    "    \n",
    "    return result\n",
    "\n",
    "mse(y_test,column_y_pred)"
   ]
  },
  {
   "cell_type": "markdown",
   "id": "7f05a5ad",
   "metadata": {},
   "source": [
    "# Validação real"
   ]
  },
  {
   "cell_type": "code",
   "execution_count": 93,
   "id": "34c5cfca",
   "metadata": {},
   "outputs": [
    {
     "name": "stdout",
     "output_type": "stream",
     "text": [
      "Melhor coluna: input_voltage com RMSE: 382.6748888289727\n"
     ]
    }
   ],
   "source": [
    "best_column = ''\n",
    "best_rmse = float('inf')\n",
    "results = []\n",
    "\n",
    "for column in colunas:\n",
    "    if column == column_used:\n",
    "        continue\n",
    "\n",
    "    if df_train[column].dtype in ['float64', 'int64']:\n",
    "        \n",
    "        x_train = df_train[column]\n",
    "        x_test = df_test[column]\n",
    "\n",
    "        y_train = df_train[column_used]\n",
    "        y_test = df_test[column_used]\n",
    "        \n",
    "        b1,b0 = calculo_b1_b0(x_train,y_train)\n",
    "        column_y_pred = pred_test(x_test)\n",
    "        \n",
    "        rmse_value = rmse(y_test,column_y_pred)\n",
    "        mse_value = mse(y_test,column_y_pred)\n",
    "        \n",
    "        if rmse_value < best_rmse:\n",
    "            best_rmse = rmse_value\n",
    "            best_column = column\n",
    "        \n",
    "        results.append((column, b1, b0, rmse_value, mse_value))\n",
    "    else:\n",
    "        print(f\"Pulando coluna categórica: {column}\")\n",
    "\n",
    "print(f\"Melhor coluna: {best_column} com RMSE: {best_rmse}\")"
   ]
  },
  {
   "cell_type": "code",
   "execution_count": 94,
   "id": "0cb7c211",
   "metadata": {},
   "outputs": [
    {
     "data": {
      "application/vnd.microsoft.datawrangler.viewer.v0+json": {
       "columns": [
        {
         "name": "index",
         "rawType": "int64",
         "type": "integer"
        },
        {
         "name": "Column",
         "rawType": "object",
         "type": "string"
        },
        {
         "name": "b1",
         "rawType": "float64",
         "type": "float"
        },
        {
         "name": "b0",
         "rawType": "float64",
         "type": "float"
        },
        {
         "name": "RMSE",
         "rawType": "float64",
         "type": "float"
        },
        {
         "name": "MSE",
         "rawType": "float64",
         "type": "float"
        }
       ],
       "ref": "5d97427a-62a9-4c96-98fa-7365c5576f4d",
       "rows": [
        [
         "0",
         "input_voltage",
         "250.18441344571048",
         "465.91725400839255",
         "382.6748888289727",
         "146440.0705402666"
        ],
        [
         "1",
         "time",
         "0.056726897947851566",
         "1525.2797606834586",
         "765.7460874262545",
         "586367.0704086169"
        ]
       ],
       "shape": {
        "columns": 5,
        "rows": 2
       }
      },
      "text/html": [
       "<div>\n",
       "<style scoped>\n",
       "    .dataframe tbody tr th:only-of-type {\n",
       "        vertical-align: middle;\n",
       "    }\n",
       "\n",
       "    .dataframe tbody tr th {\n",
       "        vertical-align: top;\n",
       "    }\n",
       "\n",
       "    .dataframe thead th {\n",
       "        text-align: right;\n",
       "    }\n",
       "</style>\n",
       "<table border=\"1\" class=\"dataframe\">\n",
       "  <thead>\n",
       "    <tr style=\"text-align: right;\">\n",
       "      <th></th>\n",
       "      <th>Column</th>\n",
       "      <th>b1</th>\n",
       "      <th>b0</th>\n",
       "      <th>RMSE</th>\n",
       "      <th>MSE</th>\n",
       "    </tr>\n",
       "  </thead>\n",
       "  <tbody>\n",
       "    <tr>\n",
       "      <th>0</th>\n",
       "      <td>input_voltage</td>\n",
       "      <td>250.184413</td>\n",
       "      <td>465.917254</td>\n",
       "      <td>382.674889</td>\n",
       "      <td>146440.070540</td>\n",
       "    </tr>\n",
       "    <tr>\n",
       "      <th>1</th>\n",
       "      <td>time</td>\n",
       "      <td>0.056727</td>\n",
       "      <td>1525.279761</td>\n",
       "      <td>765.746087</td>\n",
       "      <td>586367.070409</td>\n",
       "    </tr>\n",
       "  </tbody>\n",
       "</table>\n",
       "</div>"
      ],
      "text/plain": [
       "          Column          b1           b0        RMSE            MSE\n",
       "0  input_voltage  250.184413   465.917254  382.674889  146440.070540\n",
       "1           time    0.056727  1525.279761  765.746087  586367.070409"
      ]
     },
     "execution_count": 94,
     "metadata": {},
     "output_type": "execute_result"
    }
   ],
   "source": [
    "df = pd.DataFrame(results, columns=['Column', 'b1', 'b0', 'RMSE', 'MSE']).sort_values(by='RMSE').reset_index(drop=True)\n",
    "df"
   ]
  },
  {
   "cell_type": "code",
   "execution_count": 95,
   "id": "7e9c1f29",
   "metadata": {},
   "outputs": [
    {
     "data": {
      "text/plain": [
       "<matplotlib.legend.Legend at 0x1a13a3f7110>"
      ]
     },
     "execution_count": 95,
     "metadata": {},
     "output_type": "execute_result"
    },
    {
     "data": {
      "image/png": "[encoded data removed]",
      "text/plain": [
       "<Figure size 1000x600 with 1 Axes>"
      ]
     },
     "metadata": {},
     "output_type": "display_data"
    }
   ],
   "source": [
    "plt.figure(figsize=(10,6))\n",
    "plt.scatter(x_test, y_test, color='blue', label='Actual Data')\n",
    "plt.plot(x_test, column_y_pred, color='red', label='Regression Line')\n",
    "plt.xlabel(best_column)\n",
    "plt.ylabel(column_used)\n",
    "plt.title(f'Linear Regression usando a coluna {best_column} para prever {column_used}')\n",
    "plt.legend()"
   ]
  },
  {
   "cell_type": "markdown",
   "id": "03f4a5f8",
   "metadata": {},
   "source": [
    "# Regressão multiplas"
   ]
  },
  {
   "cell_type": "markdown",
   "id": "2428274f",
   "metadata": {},
   "source": [
    "## Formulas\n",
    "\n",
    "### Regressão Linear multipla\n",
    "\n",
    "Função geral da regressão linear múltipla:\n",
    "Y = β0 + β1X1 + β2X2 + ... + βnXn + ε\n",
    "\n",
    "#### Descrição dos termos:\n",
    "- Y: Variável dependente (o que estamos tentando prever)\n",
    "- X1, X2, ..., Xn: Variáveis independentes (os preditores)\n",
    "- β0: Essa variavel é o intercepto, ou seja, o valor de Y quando todas as variáveis independentes são iguais a zero.\n",
    "- β1, β2, ..., βn: Coeficientes de regressão que representam a mudança esperada em Y para uma unidade de mudança em cada variável independente, mantendo todas as outras constantes.\n",
    "\n",
    "Função de custo:\n",
    "J(β) = (1/2m) * Σ (Yi - (β0 + β1X1i + β2X2i + ... + βnXni))^2\n",
    "\n",
    "Gradiente descendente:\n",
    "βj := βj - α * (∂J(β)/∂βj)\n",
    "\n"
   ]
  },
  {
   "cell_type": "code",
   "execution_count": null,
   "id": "6b150fbe",
   "metadata": {},
   "outputs": [],
   "source": [
    "import numpy as np\n",
    "\n",
    "def funcao_custo(X, y, coeficientes):\n",
    "    m = len(y)\n",
    "    y_pred = coeficientes[0] + np.dot(X, coeficientes[1:])\n",
    "    erro = y_pred - y\n",
    "    return np.sum(erro ** 2) / (2 * m)\n",
    "\n",
    "\n",
    "def calcular_gradientes(X, y, coeficientes):\n",
    "    m = len(y)\n",
    "    y_pred = coeficientes[0] + np.dot(X, coeficientes[1:])\n",
    "    erro = y_pred - y\n",
    "    grad_intercept = np.sum(erro) / m\n",
    "    grad_features = np.dot(X.T, erro) / m\n",
    "    return np.concatenate([[grad_intercept], grad_features])\n",
    "\n",
    "\n",
    "def fazer_predicoes(X, coeficientes):\n",
    "    predicoes = []\n",
    "    n_features = X.shape[1]\n",
    "    \n",
    "    for i in range(len(X)):\n",
    "        h_beta = coeficientes[0]  # intercepto\n",
    "        for j in range(n_features):\n",
    "            h_beta += X[i][j] * coeficientes[j+1]\n",
    "        predicoes.append(h_beta)\n",
    "    \n",
    "    return predicoes\n",
    "\n",
    "def gradiente_descendente_melhorado(X, y, coeficientes_inicial, alpha, epochs, tolerancia=1e-6):\n",
    "    \"\"\"\n",
    "    Versão com algumas melhorias opcionais\n",
    "    \"\"\"\n",
    "    coeficientes = coeficientes_inicial.copy()\n",
    "    custo_historico = []\n",
    "    \n",
    "    for epoch in range(epochs):\n",
    "        gradientes = calcular_gradientes(X, y, coeficientes)\n",
    "        \n",
    "        # Atualização dos coeficientes\n",
    "        for j in range(len(coeficientes)):\n",
    "            coeficientes[j] = coeficientes[j] - alpha * gradientes[j]\n",
    "    \n",
    "        custo = funcao_custo(X, y, coeficientes)\n",
    "        custo_historico.append(custo)\n",
    "        \n",
    "        # Verificar convergência\n",
    "        if epoch > 0 and abs(custo_historico[-2] - custo) < tolerancia:\n",
    "            print(f\"Convergiu na época {epoch}\")\n",
    "            break\n",
    "    \n",
    "        if epoch % 100 == 0 or epoch < 10:\n",
    "            print(f\"Epoch {epoch:4d}: Custo = {custo:.6f}\")\n",
    "    \n",
    "    print(f\"Coeficientes finais: {coeficientes}\")\n",
    "    return coeficientes, custo_historico\n",
    "    "
   ]
  },
  {
   "cell_type": "code",
   "execution_count": null,
   "id": "8c418c89",
   "metadata": {},
   "outputs": [],
   "source": [
    "def funcao_custo(X, y, coeficientes):\n",
    "    \"\"\"\n",
    "    Calcula a função de custo usando NumPy mas mantendo a fórmula explícita\n",
    "    Fórmula: J(β) = (1/2m) * Σ(hβ(x^(i)) - y^(i))²\n",
    "    \"\"\"\n",
    "    m = len(y)\n",
    "    \n",
    "    # Calcular predições: β₀ + X @ β[1:]\n",
    "    predicoes = coeficientes[0] + np.dot(X, coeficientes[1:])\n",
    "    \n",
    "    # Calcular erros\n",
    "    erros = predicoes - y\n",
    "    \n",
    "    # Somar erros quadrados e aplicar fórmula da função de custo\n",
    "    soma_erros_quadrados = np.sum(erros ** 2)\n",
    "    custo_final = soma_erros_quadrados / (2 * m)\n",
    "    \n",
    "    return custo_final\n",
    "\n",
    "\n",
    "def calcular_gradientes(X, y, coeficientes):\n",
    "    \"\"\"\n",
    "    ∂J/∂β₀ = (1/m) * Σ(hβ(x^(i)) - y^(i))\n",
    "    ∂J/∂βⱼ = (1/m) * Σ(hβ(x^(i)) - y^(i)) * xⱼ^(i)\n",
    "    \"\"\"\n",
    "    m = len(y)\n",
    "    \n",
    "    # Calcular predições: β₀ + X @ β[1:]\n",
    "    predicoes = coeficientes[0] + np.dot(X, coeficientes[1:])\n",
    "    \n",
    "    erros = predicoes - y\n",
    "    \n",
    "    # Gradiente do intercepto: (1/m) * Σ(erro)\n",
    "    grad_intercepto = np.sum(erros) / m\n",
    "    \n",
    "    # Gradientes das features: (1/m) * X^T @ erros\n",
    "    # O símbolo @ representa a multiplicação de matrizes\n",
    "    grad_features = np.dot(X.T, erros) / m\n",
    "    \n",
    "    # Combinar gradientes\n",
    "    gradientes = np.concatenate([[grad_intercepto], grad_features])\n",
    "    \n",
    "    return gradientes\n",
    "\n",
    "\n",
    "def fazer_predicoes(X, coeficientes):\n",
    "    \"\"\"\n",
    "    Faz predições usando NumPy mas mantendo a fórmula explícita\n",
    "    hβ(x) = β₀ + β₁*x₁ + β₂*x₂ + ... + βₙ*xₙ\n",
    "    \"\"\"\n",
    "    # Aplicar fórmula: β₀ + X @ β[1:]\n",
    "    predicoes = coeficientes[0] + np.dot(X, coeficientes[1:])\n",
    "    \n",
    "    return predicoes.tolist()  # Converter para lista para compatibilidade\n",
    "\n",
    "\n",
    "def gradiente_descendente(X, y, coeficientes_inicial, alpha, epochs, tolerancia=1e-6):\n",
    "    \"\"\"\n",
    "    Implementação do gradiente descendente com NumPy\n",
    "    βⱼ := βⱼ - α * ∇J(β)\n",
    "    \"\"\"\n",
    "    # Copiar coeficientes iniciais\n",
    "    coeficientes = np.array(coeficientes_inicial.copy())\n",
    "    custo_historico = []\n",
    "    \n",
    "    for epoch in range(epochs):\n",
    "        # Calcular gradientes\n",
    "        gradientes = calcular_gradientes(X, y, coeficientes)\n",
    "        \n",
    "        # Atualizar coeficientes: β := β - α * ∇J(β)\n",
    "        coeficientes = coeficientes - alpha * gradientes\n",
    "        \n",
    "        # Calcular custo atual\n",
    "        custo_atual = funcao_custo(X, y, coeficientes)\n",
    "        custo_historico.append(custo_atual)\n",
    "        \n",
    "        # Verificar convergência\n",
    "        if epoch > 0:\n",
    "            mudanca_custo = abs(custo_historico[-2] - custo_atual)\n",
    "            \n",
    "            if mudanca_custo < tolerancia:\n",
    "                break\n",
    "        \n",
    "        # Mostrar progresso\n",
    "        if epoch % 100 == 0 or epoch < 10:\n",
    "            print(f\"Epoch {epoch:4d}: Custo = {custo_atual:.6f}\")\n",
    "    \n",
    "    return coeficientes.tolist(), custo_historico\n",
    "\n",
    "\n",
    "def gradiente_descendente_melhorado(X, y, coeficientes_inicial, alpha, epochs, tolerancia=1e-6):\n",
    "    \"\"\"\n",
    "    Versão melhorada com validação de parâmetros\n",
    "    \"\"\"\n",
    "    # Validar entrada\n",
    "    X = np.array(X)\n",
    "    y = np.array(y)\n",
    "    coeficientes = np.array(coeficientes_inicial.copy())\n",
    "    \n",
    "    custo_historico = []\n",
    "    melhor_custo = float('inf')\n",
    "    melhor_coeficientes = coeficientes.copy()\n",
    "    \n",
    "    for epoch in range(epochs):\n",
    "        # Calcular gradientes usando as fórmulas explícitas\n",
    "        gradientes = calcular_gradientes(X, y, coeficientes)\n",
    "        \n",
    "        # Atualização com a fórmula do gradiente descendente\n",
    "        coeficientes_novos = coeficientes - alpha * gradientes\n",
    "        \n",
    "        # Calcular custo com a nova configuração\n",
    "        custo_atual = funcao_custo(X, y, coeficientes_novos)\n",
    "        custo_historico.append(custo_atual)\n",
    "        \n",
    "        # Guardar melhor configuração\n",
    "        if custo_atual < melhor_custo:\n",
    "            melhor_custo = custo_atual\n",
    "            melhor_coeficientes = coeficientes_novos.copy()\n",
    "        \n",
    "        # Atualizar coeficientes\n",
    "        coeficientes = coeficientes_novos\n",
    "        \n",
    "        # Verificar convergência\n",
    "        if epoch > 0:\n",
    "            mudanca_custo = abs(custo_historico[-2] - custo_atual)\n",
    "            \n",
    "            if mudanca_custo < tolerancia:\n",
    "                break\n",
    "        \n",
    "        if epoch % 100 == 0 or epoch < 10:\n",
    "            print(f\"Epoch {epoch:4d}: Custo = {custo_atual:.6f}\")\n",
    "            \n",
    "    \n",
    "    return melhor_coeficientes.tolist(), custo_historico\n",
    "\n",
    "\n",
    "def calcular_metricas(y_real, y_pred):\n",
    "    \"\"\"\n",
    "    Calcula métricas de avaliação usando NumPy\n",
    "    \"\"\"\n",
    "    y_real = np.array(y_real)\n",
    "    y_pred = np.array(y_pred)\n",
    "    \n",
    "    # MSE: (1/n) * Σ(y_real - y_pred)²\n",
    "    mse = np.mean((y_real - y_pred) ** 2)\n",
    "    \n",
    "    # RMSE: √MSE\n",
    "    rmse = np.sqrt(mse)\n",
    "    \n",
    "    # MAE: (1/n) * Σ|y_real - y_pred|\n",
    "    mae = np.mean(np.abs(y_real - y_pred))\n",
    "    \n",
    "    # R²: 1 - (SS_res / SS_tot)\n",
    "    ss_res = np.sum((y_real - y_pred) ** 2)\n",
    "    ss_tot = np.sum((y_real - np.mean(y_real)) ** 2)\n",
    "    r2 = 1 - (ss_res / ss_tot)\n",
    "    \n",
    "    return {\n",
    "        'MSE': mse,\n",
    "        'RMSE': rmse, \n",
    "        'MAE': mae,\n",
    "        'R²': r2\n",
    "    }"
   ]
  },
  {
   "cell_type": "code",
   "execution_count": 142,
   "id": "6c69b1e3",
   "metadata": {},
   "outputs": [
    {
     "name": "stdout",
     "output_type": "stream",
     "text": [
      "Epoch    0: Custo = 1956526.801121\n",
      "Epoch    1: Custo = 1952703.568724\n",
      "Epoch    2: Custo = 1948888.071492\n",
      "Epoch    3: Custo = 1945080.293694\n",
      "Epoch    4: Custo = 1941280.219635\n",
      "Epoch    5: Custo = 1937487.833649\n",
      "Epoch    6: Custo = 1933703.120103\n",
      "Epoch    7: Custo = 1929926.063397\n",
      "Epoch    8: Custo = 1926156.647962\n",
      "Epoch    9: Custo = 1922394.858260\n",
      "Epoch  100: Custo = 1610070.501068\n",
      "Epoch  200: Custo = 1327074.496930\n",
      "Epoch  300: Custo = 1095867.607504\n",
      "Epoch  400: Custo = 906934.204570\n",
      "Epoch  500: Custo = 752514.322102\n",
      "Epoch  600: Custo = 626278.307424\n",
      "Epoch  700: Custo = 523062.047464\n",
      "Epoch  800: Custo = 438651.434807\n",
      "Epoch  900: Custo = 369606.871023\n",
      "Epoch 1000: Custo = 313120.333825\n",
      "Epoch 1100: Custo = 266898.936964\n",
      "Epoch 1200: Custo = 229070.049466\n",
      "Epoch 1300: Custo = 198103.964122\n",
      "Epoch 1400: Custo = 172750.854729\n",
      "Epoch 1500: Custo = 151989.370263\n",
      "Epoch 1600: Custo = 134984.708664\n",
      "Epoch 1700: Custo = 121054.414697\n",
      "Epoch 1800: Custo = 109640.472945\n",
      "Epoch 1900: Custo = 100286.532515\n",
      "Epoch 2000: Custo = 92619.316013\n",
      "Epoch 2100: Custo = 86333.440994\n",
      "Epoch 2200: Custo = 81179.025059\n",
      "Epoch 2300: Custo = 76951.562148\n",
      "Epoch 2400: Custo = 73483.652249\n",
      "Epoch 2500: Custo = 70638.243966\n",
      "Epoch 2600: Custo = 68303.112149\n",
      "Epoch 2700: Custo = 66386.344040\n",
      "Epoch 2800: Custo = 64812.649077\n",
      "Epoch 2900: Custo = 63520.341518\n",
      "Epoch 3000: Custo = 62458.872783\n",
      "Epoch 3100: Custo = 61586.812992\n",
      "Epoch 3200: Custo = 60870.199651\n",
      "Epoch 3300: Custo = 60281.186462\n",
      "Epoch 3400: Custo = 59796.937522\n",
      "Epoch 3500: Custo = 59398.722188\n",
      "Epoch 3600: Custo = 59071.174056\n",
      "Epoch 3700: Custo = 58801.684209\n",
      "Epoch 3800: Custo = 58579.904305\n",
      "Epoch 3900: Custo = 58397.339554\n",
      "Epoch 4000: Custo = 58247.015270\n",
      "Epoch 4100: Custo = 58123.203643\n",
      "Epoch 4200: Custo = 58021.199820\n",
      "Epoch 4300: Custo = 57937.138359\n",
      "Epoch 4400: Custo = 57867.842758\n",
      "Epoch 4500: Custo = 57810.702069\n",
      "Epoch 4600: Custo = 57763.569701\n",
      "Epoch 4700: Custo = 57724.680418\n",
      "Epoch 4800: Custo = 57692.582232\n",
      "Epoch 4900: Custo = 57666.080523\n",
      "Epoch 5000: Custo = 57644.192166\n",
      "Epoch 5100: Custo = 57626.107881\n",
      "Epoch 5200: Custo = 57611.161312\n",
      "Epoch 5300: Custo = 57598.803642\n",
      "Epoch 5400: Custo = 57588.582727\n",
      "Epoch 5500: Custo = 57580.125966\n",
      "Epoch 5600: Custo = 57573.126220\n",
      "Epoch 5700: Custo = 57567.330230\n",
      "Epoch 5800: Custo = 57562.529106\n",
      "Epoch 5900: Custo = 57558.550498\n",
      "Epoch 6000: Custo = 57555.252162\n",
      "Epoch 6100: Custo = 57552.516660\n",
      "Epoch 6200: Custo = 57550.247002\n",
      "Epoch 6300: Custo = 57548.363059\n",
      "Epoch 6400: Custo = 57546.798613\n",
      "Epoch 6500: Custo = 57545.498914\n",
      "Epoch 6600: Custo = 57544.418685\n",
      "Epoch 6700: Custo = 57543.520468\n",
      "Epoch 6800: Custo = 57542.773258\n",
      "Epoch 6900: Custo = 57542.151386\n",
      "Epoch 7000: Custo = 57541.633592\n",
      "Epoch 7100: Custo = 57541.202257\n",
      "Epoch 7200: Custo = 57540.842777\n",
      "Epoch 7300: Custo = 57540.543043\n",
      "Epoch 7400: Custo = 57540.293006\n",
      "Epoch 7500: Custo = 57540.084329\n",
      "Epoch 7600: Custo = 57539.910086\n",
      "Epoch 7700: Custo = 57539.764527\n",
      "Epoch 7800: Custo = 57539.642872\n",
      "Epoch 7900: Custo = 57539.541147\n",
      "Epoch 8000: Custo = 57539.456045\n",
      "Epoch 8100: Custo = 57539.384818\n",
      "Epoch 8200: Custo = 57539.325173\n",
      "Epoch 8300: Custo = 57539.275204\n",
      "Epoch 8400: Custo = 57539.233322\n",
      "Epoch 8500: Custo = 57539.198201\n",
      "Epoch 8600: Custo = 57539.168735\n",
      "Epoch 8700: Custo = 57539.144004\n",
      "Epoch 8800: Custo = 57539.123236\n",
      "Epoch 8900: Custo = 57539.105788\n",
      "Epoch 9000: Custo = 57539.091123\n",
      "Epoch 9100: Custo = 57539.078791\n",
      "Epoch 9200: Custo = 57539.068417\n",
      "Epoch 9300: Custo = 57539.059685\n",
      "Epoch 9400: Custo = 57539.052334\n",
      "Epoch 9500: Custo = 57539.046141\n",
      "Epoch 9600: Custo = 57539.040922\n",
      "Epoch 9700: Custo = 57539.036522\n",
      "Epoch 9800: Custo = 57539.032811\n",
      "Epoch 9900: Custo = 57539.029680\n"
     ]
    },
    {
     "data": {
      "text/plain": [
       "{'MSE': np.float64(143914.9114843253),\n",
       " 'RMSE': np.float64(379.36118869004684),\n",
       " 'MAE': np.float64(217.8483708916848),\n",
       " 'R²': np.float64(0.7799313758032764)}"
      ]
     },
     "execution_count": 142,
     "metadata": {},
     "output_type": "execute_result"
    }
   ],
   "source": [
    "# Preparação sem adicionar coluna de 1's\n",
    "scaler = StandardScaler()\n",
    "X_train = df_train[['input_voltage', 'time']].to_numpy() \n",
    "y_train = df_train['el_power'].to_numpy()\n",
    "X_test = df_test[['input_voltage', 'time']].to_numpy() \n",
    "y_test = df_test['el_power'].to_numpy()\n",
    "\n",
    "X_train_scaled = scaler.fit_transform(X_train)\n",
    "X_test_scaled = scaler.transform(X_test)\n",
    "coef_iniciais = np.zeros(3)  # [β₀, β₁, β₂]\n",
    "\n",
    "coeficientes, historico = gradiente_descendente(X_train_scaled, y_train, coef_iniciais, alpha=0.001, epochs=10000)\n",
    "y_pred = fazer_predicoes(X_test_scaled, coeficientes)\n",
    "metricas = calcular_metricas(y_test, y_pred)\n",
    "metricas"
   ]
  },
  {
   "cell_type": "code",
   "execution_count": 143,
   "id": "a9e7c8fc",
   "metadata": {},
   "outputs": [
    {
     "data": {
      "text/plain": [
       "(array([631.17247847,  30.98018916]), np.float64(1843.3159492020916))"
      ]
     },
     "execution_count": 143,
     "metadata": {},
     "output_type": "execute_result"
    }
   ],
   "source": [
    "from sklearn.linear_model import LinearRegression\n",
    "model = LinearRegression()\n",
    "model.fit(X_train_scaled, y_train)\n",
    "pred_sklearn = model.predict(X_test_scaled)\n",
    "model.coef_, model.intercept_"
   ]
  },
  {
   "cell_type": "code",
   "execution_count": 144,
   "id": "8dddec5f",
   "metadata": {},
   "outputs": [
    {
     "data": {
      "text/plain": [
       "<matplotlib.legend.Legend at 0x1a141652ad0>"
      ]
     },
     "execution_count": 144,
     "metadata": {},
     "output_type": "execute_result"
    },
    {
     "data": {
      "image/png": "[encoded data removed]",
      "text/plain": [
       "<Figure size 1000x600 with 1 Axes>"
      ]
     },
     "metadata": {},
     "output_type": "display_data"
    }
   ],
   "source": [
    "fig, ax = plt.subplots(figsize=(10,6))\n",
    "ax.plot(y_test, label='Reais', color='blue')\n",
    "ax.plot(y_pred, label='Preditas pelo nosso modelo', color='orange')\n",
    "ax.plot(pred_sklearn, label='Preditas pelo sklearn', color='green', linestyle='--')\n",
    "ax.set_xlabel('Samples')\n",
    "ax.set_ylabel('Electric Power')\n",
    "ax.set_title('Reais vs Preditas')\n",
    "ax.legend()"
   ]
  }
 ],
 "metadata": {
  "kernelspec": {
   "display_name": ".venv (3.13.5)",
   "language": "python",
   "name": "python3"
  },
  "language_info": {
   "codemirror_mode": {
    "name": "ipython",
    "version": 3
   },
   "file_extension": ".py",
   "mimetype": "text/x-python",
   "name": "python",
   "nbconvert_exporter": "python",
   "pygments_lexer": "ipython3",
   "version": "3.13.5"
  }
 },
 "nbformat": 4,
 "nbformat_minor": 5
}
