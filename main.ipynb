{
 "cells": [
  {
   "cell_type": "code",
   "execution_count": 1,
   "id": "b5ef259a",
   "metadata": {},
   "outputs": [
    {
     "name": "stderr",
     "output_type": "stream",
     "text": [
      "A subdirectory or file dataset already exists.\n",
      "  % Total    % Received % Xferd  Average Speed   Time    Time     Time  Current\n",
      "                                 Dload  Upload   Total   Spent    Left  Speed\n",
      "\n",
      "  0     0    0     0    0     0      0      0 --:--:-- --:--:-- --:--:--     0\n",
      "  1 1183k    1 17576    0     0  21343      0  0:00:56 --:--:--  0:00:56 21408\n",
      " 92 1183k   92 1098k    0     0   564k      0  0:00:02  0:00:01  0:00:01  564k\n",
      "100 1183k  100 1183k    0     0   601k      0  0:00:01  0:00:01 --:--:--  602k\n",
      "'ls' is not recognized as an internal or external command,\n",
      "operable program or batch file.\n",
      "  % Total    % Received % Xferd  Average Speed   Time    Time     Time  Current\n",
      "                                 Dload  Upload   Total   Spent    Left  Speed\n",
      "\n",
      "  0     0    0     0    0     0      0      0 --:--:-- --:--:-- --:--:--     0\n",
      "  0 1254k    0     0    0     0      0      0 --:--:-- --:--:-- --:--:--     0\n",
      " 36 1254k   36  458k    0     0   273k      0  0:00:04  0:00:01  0:00:03  273k\n",
      "100 1254k  100 1254k    0     0   611k      0  0:00:02  0:00:02 --:--:--  612k\n",
      "'ls' is not recognized as an internal or external command,\n",
      "operable program or batch file.\n"
     ]
    }
   ],
   "source": [
    "!mkdir dataset\n",
    "!curl -L -o dataset/SOCS_Local-RFFRFS.csv \"https://zenodo.org/records/10211884/files/LUCAS%20SOIL%202018%20BD%20SOCS%20Local-RFFRFS.csv?download=1\" && ls -l dataset/SOCS_Local-RFFRFS.csv \n",
    "!curl -L -o dataset/SOCS_T-PTF4.csv \"https://zenodo.org/records/10211884/files/LUCAS%20SOIL%202018%20BD%20SOCS%20T-PTF4.csv?download=1\" && ls -l dataset/SOCS_T-PTF4.csv"
   ]
  },
  {
   "cell_type": "code",
   "execution_count": 2,
   "id": "596f2092",
   "metadata": {},
   "outputs": [],
   "source": [
    "import pandas as pd\n",
    "import math"
   ]
  },
  {
   "cell_type": "code",
   "execution_count": 3,
   "id": "dbb45295",
   "metadata": {},
   "outputs": [],
   "source": [
    "PATH_LOCAL = 'dataset/SOCS_Local-RFFRFS.csv'\n",
    "PATH_PTF4 = 'dataset/SOCS_T-PTF4.csv'"
   ]
  },
  {
   "cell_type": "code",
   "execution_count": 4,
   "id": "1c3718e7",
   "metadata": {},
   "outputs": [],
   "source": [
    "data_local = pd.read_csv(PATH_LOCAL)\n",
    "data_PATH_PTF4 = pd.read_csv(PATH_PTF4)"
   ]
  },
  {
   "cell_type": "code",
   "execution_count": 5,
   "id": "96c704fa",
   "metadata": {},
   "outputs": [
    {
     "name": "stdout",
     "output_type": "stream",
     "text": [
      "<class 'pandas.core.frame.DataFrame'>\n",
      "RangeIndex: 15389 entries, 0 to 15388\n",
      "Data columns (total 7 columns):\n",
      " #   Column           Non-Null Count  Dtype  \n",
      "---  ------           --------------  -----  \n",
      " 0   POINTID          15389 non-null  int64  \n",
      " 1   Bdfine (g cm-3)  15389 non-null  float64\n",
      " 2   SOCS (kg cm-2)   15389 non-null  float64\n",
      " 3   coarse_vol       15389 non-null  float64\n",
      " 4   GPS_LAT          15389 non-null  float64\n",
      " 5   GPS_LONG         15389 non-null  float64\n",
      " 6   BDfine  method   15389 non-null  object \n",
      "dtypes: float64(5), int64(1), object(1)\n",
      "memory usage: 841.7+ KB\n"
     ]
    }
   ],
   "source": [
    "data_local.info()"
   ]
  },
  {
   "cell_type": "code",
   "execution_count": 6,
   "id": "9c87fcf7",
   "metadata": {},
   "outputs": [
    {
     "name": "stdout",
     "output_type": "stream",
     "text": [
      "<class 'pandas.core.frame.DataFrame'>\n",
      "RangeIndex: 18945 entries, 0 to 18944\n",
      "Data columns (total 7 columns):\n",
      " #   Column           Non-Null Count  Dtype  \n",
      "---  ------           --------------  -----  \n",
      " 0   POINTID          18945 non-null  int64  \n",
      " 1   Bdfine (g cm-3)  18945 non-null  float64\n",
      " 2   SOCS (kg cm-2)   18945 non-null  float64\n",
      " 3   coarse_vol       18945 non-null  float64\n",
      " 4   GPS_LAT          18945 non-null  float64\n",
      " 5   GPS_LONG         18945 non-null  float64\n",
      " 6   BDfine  method   18945 non-null  object \n",
      "dtypes: float64(5), int64(1), object(1)\n",
      "memory usage: 1.0+ MB\n"
     ]
    }
   ],
   "source": [
    "data_PATH_PTF4.info()"
   ]
  },
  {
   "cell_type": "code",
   "execution_count": 7,
   "id": "3c7b0233",
   "metadata": {},
   "outputs": [
    {
     "data": {
      "text/html": [
       "<div>\n",
       "<style scoped>\n",
       "    .dataframe tbody tr th:only-of-type {\n",
       "        vertical-align: middle;\n",
       "    }\n",
       "\n",
       "    .dataframe tbody tr th {\n",
       "        vertical-align: top;\n",
       "    }\n",
       "\n",
       "    .dataframe thead th {\n",
       "        text-align: right;\n",
       "    }\n",
       "</style>\n",
       "<table border=\"1\" class=\"dataframe\">\n",
       "  <thead>\n",
       "    <tr style=\"text-align: right;\">\n",
       "      <th></th>\n",
       "      <th>POINTID</th>\n",
       "      <th>Bdfine (g cm-3)</th>\n",
       "      <th>SOCS (kg cm-2)</th>\n",
       "      <th>coarse_vol</th>\n",
       "      <th>GPS_LAT</th>\n",
       "      <th>GPS_LONG</th>\n",
       "      <th>BDfine  method</th>\n",
       "    </tr>\n",
       "  </thead>\n",
       "  <tbody>\n",
       "    <tr>\n",
       "      <th>0</th>\n",
       "      <td>35582326</td>\n",
       "      <td>1.19</td>\n",
       "      <td>5.24</td>\n",
       "      <td>0.14</td>\n",
       "      <td>43.609317</td>\n",
       "      <td>0.544198</td>\n",
       "      <td>Measurement</td>\n",
       "    </tr>\n",
       "    <tr>\n",
       "      <th>1</th>\n",
       "      <td>46764408</td>\n",
       "      <td>0.96</td>\n",
       "      <td>4.35</td>\n",
       "      <td>0.05</td>\n",
       "      <td>62.617261</td>\n",
       "      <td>16.897350</td>\n",
       "      <td>Measurement</td>\n",
       "    </tr>\n",
       "    <tr>\n",
       "      <th>2</th>\n",
       "      <td>51464814</td>\n",
       "      <td>0.79</td>\n",
       "      <td>6.33</td>\n",
       "      <td>0.01</td>\n",
       "      <td>65.472827</td>\n",
       "      <td>27.909976</td>\n",
       "      <td>Measurement</td>\n",
       "    </tr>\n",
       "    <tr>\n",
       "      <th>3</th>\n",
       "      <td>29901692</td>\n",
       "      <td>1.17</td>\n",
       "      <td>2.06</td>\n",
       "      <td>0.08</td>\n",
       "      <td>37.127066</td>\n",
       "      <td>-4.962568</td>\n",
       "      <td>Measurement</td>\n",
       "    </tr>\n",
       "    <tr>\n",
       "      <th>4</th>\n",
       "      <td>31841902</td>\n",
       "      <td>1.06</td>\n",
       "      <td>2.77</td>\n",
       "      <td>0.02</td>\n",
       "      <td>39.318784</td>\n",
       "      <td>-3.181327</td>\n",
       "      <td>Measurement</td>\n",
       "    </tr>\n",
       "  </tbody>\n",
       "</table>\n",
       "</div>"
      ],
      "text/plain": [
       "    POINTID  Bdfine (g cm-3)  SOCS (kg cm-2)  coarse_vol    GPS_LAT  \\\n",
       "0  35582326             1.19            5.24        0.14  43.609317   \n",
       "1  46764408             0.96            4.35        0.05  62.617261   \n",
       "2  51464814             0.79            6.33        0.01  65.472827   \n",
       "3  29901692             1.17            2.06        0.08  37.127066   \n",
       "4  31841902             1.06            2.77        0.02  39.318784   \n",
       "\n",
       "    GPS_LONG BDfine  method   \n",
       "0   0.544198     Measurement  \n",
       "1  16.897350     Measurement  \n",
       "2  27.909976     Measurement  \n",
       "3  -4.962568     Measurement  \n",
       "4  -3.181327     Measurement  "
      ]
     },
     "execution_count": 7,
     "metadata": {},
     "output_type": "execute_result"
    }
   ],
   "source": [
    "data_local.head()"
   ]
  },
  {
   "cell_type": "code",
   "execution_count": 8,
   "id": "9d39648c",
   "metadata": {},
   "outputs": [
    {
     "data": {
      "text/html": [
       "<div>\n",
       "<style scoped>\n",
       "    .dataframe tbody tr th:only-of-type {\n",
       "        vertical-align: middle;\n",
       "    }\n",
       "\n",
       "    .dataframe tbody tr th {\n",
       "        vertical-align: top;\n",
       "    }\n",
       "\n",
       "    .dataframe thead th {\n",
       "        text-align: right;\n",
       "    }\n",
       "</style>\n",
       "<table border=\"1\" class=\"dataframe\">\n",
       "  <thead>\n",
       "    <tr style=\"text-align: right;\">\n",
       "      <th></th>\n",
       "      <th>POINTID</th>\n",
       "      <th>Bdfine (g cm-3)</th>\n",
       "      <th>SOCS (kg cm-2)</th>\n",
       "      <th>coarse_vol</th>\n",
       "      <th>GPS_LAT</th>\n",
       "      <th>GPS_LONG</th>\n",
       "      <th>BDfine  method</th>\n",
       "    </tr>\n",
       "  </thead>\n",
       "  <tbody>\n",
       "    <tr>\n",
       "      <th>0</th>\n",
       "      <td>35582326</td>\n",
       "      <td>1.19</td>\n",
       "      <td>5.24</td>\n",
       "      <td>0.14</td>\n",
       "      <td>43.609317</td>\n",
       "      <td>0.544198</td>\n",
       "      <td>Measurement</td>\n",
       "    </tr>\n",
       "    <tr>\n",
       "      <th>1</th>\n",
       "      <td>46764408</td>\n",
       "      <td>0.96</td>\n",
       "      <td>4.35</td>\n",
       "      <td>0.05</td>\n",
       "      <td>62.617261</td>\n",
       "      <td>16.897350</td>\n",
       "      <td>Measurement</td>\n",
       "    </tr>\n",
       "    <tr>\n",
       "      <th>2</th>\n",
       "      <td>51464814</td>\n",
       "      <td>0.79</td>\n",
       "      <td>6.33</td>\n",
       "      <td>0.01</td>\n",
       "      <td>65.472827</td>\n",
       "      <td>27.909976</td>\n",
       "      <td>Measurement</td>\n",
       "    </tr>\n",
       "    <tr>\n",
       "      <th>3</th>\n",
       "      <td>29901692</td>\n",
       "      <td>1.17</td>\n",
       "      <td>2.06</td>\n",
       "      <td>0.08</td>\n",
       "      <td>37.127066</td>\n",
       "      <td>-4.962568</td>\n",
       "      <td>Measurement</td>\n",
       "    </tr>\n",
       "    <tr>\n",
       "      <th>4</th>\n",
       "      <td>31841902</td>\n",
       "      <td>1.06</td>\n",
       "      <td>2.77</td>\n",
       "      <td>0.02</td>\n",
       "      <td>39.318784</td>\n",
       "      <td>-3.181327</td>\n",
       "      <td>Measurement</td>\n",
       "    </tr>\n",
       "  </tbody>\n",
       "</table>\n",
       "</div>"
      ],
      "text/plain": [
       "    POINTID  Bdfine (g cm-3)  SOCS (kg cm-2)  coarse_vol    GPS_LAT  \\\n",
       "0  35582326             1.19            5.24        0.14  43.609317   \n",
       "1  46764408             0.96            4.35        0.05  62.617261   \n",
       "2  51464814             0.79            6.33        0.01  65.472827   \n",
       "3  29901692             1.17            2.06        0.08  37.127066   \n",
       "4  31841902             1.06            2.77        0.02  39.318784   \n",
       "\n",
       "    GPS_LONG BDfine  method   \n",
       "0   0.544198     Measurement  \n",
       "1  16.897350     Measurement  \n",
       "2  27.909976     Measurement  \n",
       "3  -4.962568     Measurement  \n",
       "4  -3.181327     Measurement  "
      ]
     },
     "execution_count": 8,
     "metadata": {},
     "output_type": "execute_result"
    }
   ],
   "source": [
    "data_PATH_PTF4.head()"
   ]
  },
  {
   "cell_type": "code",
   "execution_count": 9,
   "id": "eb865b77",
   "metadata": {},
   "outputs": [
    {
     "data": {
      "text/plain": [
       "Index(['POINTID', 'Bdfine (g cm-3)', 'SOCS (kg cm-2)', 'coarse_vol', 'GPS_LAT',\n",
       "       'GPS_LONG', 'BDfine  method '],\n",
       "      dtype='object')"
      ]
     },
     "execution_count": 9,
     "metadata": {},
     "output_type": "execute_result"
    }
   ],
   "source": [
    "colunas = data_local.columns\n",
    "colunas"
   ]
  },
  {
   "cell_type": "code",
   "execution_count": 10,
   "id": "d4f5db02",
   "metadata": {},
   "outputs": [
    {
     "name": "stdout",
     "output_type": "stream",
     "text": [
      "train: 10772 rows, test: 4617 rows\n"
     ]
    }
   ],
   "source": [
    "split_idx = int(len(data_local) * 0.7)\n",
    "train = data_local.iloc[:split_idx].reset_index(drop=True)\n",
    "test = data_local.iloc[split_idx:].reset_index(drop=True)\n",
    "print(f\"train: {len(train)} rows, test: {len(test)} rows\")"
   ]
  },
  {
   "cell_type": "code",
   "execution_count": 11,
   "id": "663bc6dc",
   "metadata": {},
   "outputs": [],
   "source": [
    "column_used = 'SOCS (kg cm-2)'"
   ]
  },
  {
   "cell_type": "code",
   "execution_count": 12,
   "id": "7bcd27c4",
   "metadata": {},
   "outputs": [],
   "source": [
    "x_train = train[colunas[0]]\n",
    "y_train = train[column_used]\n",
    "\n",
    "x_test = test[colunas[0]]\n",
    "y_test = test[column_used]"
   ]
  },
  {
   "cell_type": "code",
   "execution_count": 13,
   "id": "9b33db93",
   "metadata": {},
   "outputs": [
    {
     "data": {
      "text/plain": [
       "(6.582657733446041e-08, 2.300930455761806)"
      ]
     },
     "execution_count": 13,
     "metadata": {},
     "output_type": "execute_result"
    }
   ],
   "source": [
    "def calculo_b1_b0(column_x,column_y):\n",
    "    x_mean = column_x.sum() / len(column_x)\n",
    "    y_mean = column_y.sum() / len(column_y)\n",
    "    \n",
    "    numerador = 0\n",
    "    denominador = 0\n",
    "    \n",
    "    for i in range(len(column_x)):\n",
    "        numerador += (column_x[i] - x_mean) * (column_y[i] - y_mean)\n",
    "        denominador += (column_x[i] - x_mean) ** 2\n",
    "    \n",
    "    b1 = numerador / denominador\n",
    "    \n",
    "    b0 = y_mean - (x_mean*b1)\n",
    "    \n",
    "    return b1,b0\n",
    "b1,b0 = calculo_b1_b0(x_train,y_train)\n",
    "b1,b0"
   ]
  },
  {
   "cell_type": "code",
   "execution_count": 14,
   "id": "7b64673e",
   "metadata": {},
   "outputs": [],
   "source": [
    "def calculo_pred(b1,b0,x):\n",
    "    return (b1 * x) + b0"
   ]
  },
  {
   "cell_type": "code",
   "execution_count": 15,
   "id": "d1f91fa4",
   "metadata": {},
   "outputs": [],
   "source": [
    "def pred_test(column_x_test):\n",
    "    column_y_pred = []\n",
    "    \n",
    "    for x in column_x_test:\n",
    "        column_y_pred.append(calculo_pred(b1,b0,x))\n",
    "    \n",
    "    return column_y_pred\n",
    "column_y_pred = pred_test(x_test)"
   ]
  },
  {
   "cell_type": "code",
   "execution_count": 16,
   "id": "41bfb402",
   "metadata": {},
   "outputs": [
    {
     "data": {
      "text/plain": [
       "6.806478723773684"
      ]
     },
     "execution_count": 16,
     "metadata": {},
     "output_type": "execute_result"
    }
   ],
   "source": [
    "def rmse(column_y_real,column_y_pred):\n",
    "    n = len(column_y_real)\n",
    "    numerador = 0.0\n",
    "    \n",
    "    for i in range(n):\n",
    "        numerador += (column_y_real[i] - column_y_pred[i]) ** 2\n",
    "    \n",
    "    result = numerador / n\n",
    "    \n",
    "    return math.sqrt(result)\n",
    "\n",
    "rmse(y_test,column_y_pred)"
   ]
  },
  {
   "cell_type": "code",
   "execution_count": 17,
   "id": "25855367",
   "metadata": {},
   "outputs": [
    {
     "data": {
      "text/plain": [
       "46.32815261718384"
      ]
     },
     "execution_count": 17,
     "metadata": {},
     "output_type": "execute_result"
    }
   ],
   "source": [
    "def mse(column_y_real,column_y_pred):\n",
    "    n = len(column_y_real)\n",
    "    numerador = 0.0\n",
    "    \n",
    "    for i in range(n):\n",
    "        numerador += (column_y_real[i] - column_y_pred[i]) ** 2\n",
    "    \n",
    "    result = numerador / n\n",
    "    \n",
    "    return result\n",
    "\n",
    "mse(y_test,column_y_pred)"
   ]
  },
  {
   "cell_type": "code",
   "execution_count": 18,
   "id": "34c5cfca",
   "metadata": {},
   "outputs": [
    {
     "name": "stdout",
     "output_type": "stream",
     "text": [
      "Coluna: Bdfine (g cm-3)\n",
      "RMSE: 0.2101397402681726\n",
      "MSE: 0.04415871043997503\n",
      "---\n",
      "Coluna: SOCS (kg cm-2)\n",
      "RMSE: 6.806478723773684\n",
      "MSE: 46.32815261718384\n",
      "---\n",
      "Coluna: coarse_vol\n",
      "RMSE: 0.04987954923264398\n",
      "MSE: 0.0024879694316517547\n",
      "---\n",
      "Coluna: GPS_LAT\n",
      "RMSE: 8.9816734249701\n",
      "MSE: 80.67045751281415\n",
      "---\n",
      "Coluna: GPS_LONG\n",
      "RMSE: 2.482074015914605\n",
      "MSE: 6.160691420478455\n",
      "---\n",
      "Pulando coluna categórica: BDfine  method \n",
      "Melhor coluna: coarse_vol com RMSE: 0.04987954923264398\n"
     ]
    }
   ],
   "source": [
    "x_train = train[colunas[0]]\n",
    "x_test = test[colunas[0]]\n",
    "\n",
    "best_column = ''\n",
    "best_rmse = float('inf')\n",
    "\n",
    "# Filter only continuous columns (exclude POINTID and categorical columns)\n",
    "for column in colunas[1:]:  # Skip POINTID (first column)\n",
    "    # Check if column is numeric (continuous)\n",
    "    if train[column].dtype in ['float64', 'int64']:\n",
    "        y_train = train[column]\n",
    "        y_test = test[column]\n",
    "        \n",
    "        b1,b0 = calculo_b1_b0(x_train,y_train)\n",
    "        column_y_pred = pred_test(x_test)\n",
    "        \n",
    "        rmse_value = rmse(y_test,column_y_pred)\n",
    "        mse_value = mse(y_test,column_y_pred)\n",
    "        \n",
    "        if rmse_value < best_rmse:\n",
    "            best_rmse = rmse_value\n",
    "            best_column = column\n",
    "        \n",
    "        print(f\"Coluna: {column}\")\n",
    "        print(f\"RMSE: {rmse_value}\")\n",
    "        print(f\"MSE: {mse_value}\")\n",
    "        print(\"---\")\n",
    "    else:\n",
    "        print(f\"Pulando coluna categórica: {column}\")\n",
    "\n",
    "print(f\"Melhor coluna: {best_column} com RMSE: {best_rmse}\")"
   ]
  }
 ],
 "metadata": {
  "kernelspec": {
   "display_name": "base",
   "language": "python",
   "name": "python3"
  },
  "language_info": {
   "codemirror_mode": {
    "name": "ipython",
    "version": 3
   },
   "file_extension": ".py",
   "mimetype": "text/x-python",
   "name": "python",
   "nbconvert_exporter": "python",
   "pygments_lexer": "ipython3",
   "version": "3.12.7"
  }
 },
 "nbformat": 4,
 "nbformat_minor": 5
}
